{
 "cells": [
  {
   "cell_type": "code",
   "execution_count": 1,
   "metadata": {},
   "outputs": [
    {
     "name": "stderr",
     "output_type": "stream",
     "text": [
      "Using numpy backend.\n"
     ]
    },
    {
     "data": {
      "text/html": [
       "<style>\n",
       ".output {\n",
       "    align-items: center;\n",
       "}\n",
       "\n",
       "div.output_area {\n",
       "    width: 55%;\n",
       "}\n",
       "\n",
       "</style>"
      ],
      "text/plain": [
       "<IPython.core.display.HTML object>"
      ]
     },
     "execution_count": 1,
     "metadata": {},
     "output_type": "execute_result"
    }
   ],
   "source": [
    "#Importing the usual libraries.\n",
    "import numpy as np\n",
    "import tensorly as tl\n",
    "import seaborn as sns\n",
    "import matplotlib.pyplot as plt\n",
    "\n",
    "from scipy.io import loadmat\n",
    "\n",
    "#Setting style options.\n",
    "sns.set()\n",
    "np.set_printoptions(1)\n",
    "from IPython.display import display, HTML\n",
    "\n",
    "CSS = \"\"\"\n",
    ".output {\n",
    "    align-items: center;\n",
    "}\n",
    "\n",
    "div.output_area {\n",
    "    width: 55%;\n",
    "}\n",
    "\n",
    "\"\"\"\n",
    "\n",
    "HTML('<style>{}</style>'.format(CSS))"
   ]
  },
  {
   "cell_type": "markdown",
   "metadata": {},
   "source": [
    "The following packages are used in this notebook:\n",
    "\n",
    "- `numpy 1.18.1`\n",
    "- `tensorly 0.4.3`\n",
    "- `seaborn 0.10.0`"
   ]
  },
  {
   "cell_type": "markdown",
   "metadata": {},
   "source": [
    "# Least Squares Kronecker Product Factorization (LSKronF)\n",
    "\n",
    "Generate $\\mathbf{X} = \\mathbf{A}\\otimes \\mathbf{B} \\in \\mathbb{C}^{24 \\times 6}$, for randomly chosen $\\mathbf{A} \\in \\mathbb{C}^{4 \\times 2}$ and $\\mathbf{B} \\in \\mathbb{C}^{6 \\times 3}$. Then, implement the Least-Squares Khatri-Rao Factorization (LSKRF) algorithm that estimate $\\mathbf{A}$ and $\\mathbf{B}$ by solving the following problem:\n",
    "\n",
    "\\begin{equation}\n",
    "    (\\hat{\\mathbf{A}},\\hat{\\mathbf{B}}) = \\underset{\\mathbf{A},\\mathbf{B}}{min} ||\\mathbf{X} - \\mathbf{A} \\otimes \\mathbf{B}|| ^{2}_{F}\n",
    "\\end{equation}\n",
    "\n",
    "Compare the estimated matrices $\\hat{\\mathbf{A}}$ and $\\hat{\\mathbf{B}}$ with the original ones. What can you conclude? Explain the results.\n",
    "\n",
    "Hint: Use the file “kronf_matrix.mat” to validate your result.\n",
    "\n",
    "<font color='red'>Solution:</font>"
   ]
  },
  {
   "cell_type": "code",
   "execution_count": 2,
   "metadata": {},
   "outputs": [],
   "source": [
    "#This function will reorganized a matrix X as needed to the computation of LSKronF.\n",
    "def extract_chunk(X, shape_a, shape_b):\n",
    "    shape_a = np.array(shape_a)\n",
    "    shape_b = np.array(shape_b)    \n",
    "    ratio = int(X.shape[1]/shape_b[1])\n",
    "    chunks = np.split(X, ratio, axis=1)\n",
    "\n",
    "    tensor = np.array(chunks).reshape(shape_a.prod(), shape_b[0], shape_b[1])\n",
    "    \n",
    "    X_approx = np.zeros([shape_b.prod(), shape_a.prod()],dtype = 'complex')\n",
    "    for s in range(shape_a.prod()):\n",
    "        X_approx[:,s] = tensor[s].flatten(order='F')\n",
    "    \n",
    "    return X_approx"
   ]
  },
  {
   "cell_type": "code",
   "execution_count": 3,
   "metadata": {},
   "outputs": [],
   "source": [
    "#In this cell a function for LSKronF will be created.\n",
    "def LSKronF(X,I,P,J,Q):\n",
    "    #X: The uncorrupted signal X = A ⊗ B ∈ C^{IJ×PQ}, where A ∈ C^{I×P} and B ∈ C^{J×Q}.\n",
    "    #(I,P,J,Q): Dimensions of A and B as mentioned above.\n",
    "    \n",
    "    #This line will call a function to construct the new matrix X\n",
    "    #as X_approx = vec(B)vec(A)^T that will be used in the next computations.\n",
    "    X_approx = extract_chunk(X,[I,P],[J,Q])\n",
    "    #Obs:Is worth note that, except for the dimensions of A and B, the previously knowledge of the data\n",
    "    #in A and B are obviously unknow.\n",
    "    \n",
    "    #In this line the SVD of the new matrix will be calculated.\n",
    "    [U_p,S_p,V_p] = np.linalg.svd(X_approx)\n",
    "    \n",
    "    #Now the stimations of vec(A) and vec(B) will be made.\n",
    "    A_hat = (np.sqrt(S_p[0])*((V_p[0,:])))[:,None]\n",
    "    B_hat = (np.sqrt(S_p[0])*U_p[:,0])[:,None]\n",
    "    \n",
    "    #And here the unvec operation is made to obtain the final stimations of A and B.\n",
    "    A_hat = A_hat.reshape(I,P,order = 'F')\n",
    "    B_hat = B_hat.reshape(J,Q,order = 'F')\n",
    "   \n",
    "    X_hat = tl.tenalg.kronecker([A_hat,B_hat])\n",
    "    \n",
    "    #This line will calculate the Normalized Mean Square Error between the stimation X_hat and the know signal X.\n",
    "    nmse  = (np.linalg.norm(X - X_hat))**2/(np.linalg.norm(X))**2\n",
    "    \n",
    "    return X_hat,nmse"
   ]
  },
  {
   "cell_type": "markdown",
   "metadata": {},
   "source": [
    "# Test with (I,P,J,Q) = (4,2,6,3)"
   ]
  },
  {
   "cell_type": "code",
   "execution_count": 4,
   "metadata": {},
   "outputs": [
    {
     "name": "stdout",
     "output_type": "stream",
     "text": [
      "Transmited Signal X:\n",
      "[[-0.3+5.8e-02j  0.1+1.7e-03j  1.8-1.1e-01j  0.2+1.4e-01j -0.1-6.7e-02j\n",
      "  -0.9-9.6e-01j]\n",
      " [-0.6+6.6e-01j  0. -3.5e-01j -0.1+1.1e+00j  0.7+4.8e-02j -0.2+1.4e-01j\n",
      "   0.7-4.1e-01j]\n",
      " [ 1.3-1.7e-01j -1. +7.0e-01j  1.5+1.4e-01j -0.7-6.5e-01j  0.9+2.6e-01j\n",
      "  -0.6-9.1e-01j]\n",
      " [ 0.6-1.0e-02j  0.4-2.1e-01j -0.5+1.1e+00j -0.3-3.2e-01j -0.3-1.3e-01j\n",
      "   0.9-2.3e-01j]\n",
      " [-0.3+2.0e-01j  0.1+6.3e-01j  0.2+3.2e-01j  0.3+7.6e-02j  0.3-3.4e-01j\n",
      "   0.1-2.8e-01j]\n",
      " [ 0.5+4.8e-01j -0.7+7.4e-01j  0.1-5.6e-01j  0. -5.3e-01j  0.7+6.1e-02j\n",
      "  -0.3+2.2e-01j]\n",
      " [ 0.4+5.4e-01j -0.1-2.4e-01j -1.7-3.5e+00j -0.3-2.8e-01j  0.1+1.3e-01j\n",
      "   1.5+1.9e+00j]\n",
      " [ 1.9+7.1e-01j -0.7+2.3e-01j  2.3-5.9e-01j -1.2-1.8e-01j  0.4-2.3e-01j\n",
      "  -1.3+6.6e-01j]\n",
      " [-1.4-2.5e+00j  2.3+1.5e+00j -0.9-3.1e+00j  1.2+1.3e+00j -1.6-6.0e-01j\n",
      "   1. +1.8e+00j]\n",
      " [-0.5-1.2e+00j -0.8-6.5e-01j  2.8+1.2e-01j  0.4+6.3e-01j  0.5+2.9e-01j\n",
      "  -1.7+2.9e-01j]\n",
      " [ 0.7+4.3e-01j  1.2-7.1e-01j  0.5-7.2e-01j -0.4-1.8e-01j -0.6+5.8e-01j\n",
      "  -0.2+5.0e-01j]\n",
      " [ 0.5-1.5e+00j  2.1+8.2e-01j -1.2+3.4e-01j -0.1+9.8e-01j -1.4-2.2e-01j\n",
      "   0.7-3.6e-01j]\n",
      " [ 0.1+2.7e-01j -0. -1.1e-01j -0.4-1.7e+00j  0. +1.0e-02j -0. -7.9e-03j\n",
      "  -0.3-1.0e-01j]\n",
      " [ 0.8+5.0e-01j -0.4+2.7e-02j  1.1-3.1e-02j  0.1-6.1e-02j -0. +5.2e-02j\n",
      "   0.1-1.6e-01j]\n",
      " [-0.4-1.2e+00j  0.9+8.8e-01j -0.1-1.5e+00j -0.2-5.8e-02j  0.2-4.1e-02j\n",
      "  -0.2-1.2e-01j]\n",
      " [-0.1-5.6e-01j -0.3-3.6e-01j  1.2+3.3e-01j -0.1-3.6e-02j -0.1+5.4e-03j\n",
      "   0.2-1.4e-01j]\n",
      " [ 0.2+2.6e-01j  0.6-1.9e-01j  0.3-2.7e-01j  0.1-1.1e-02j  0. -1.0e-01j\n",
      "  -0. -6.4e-02j]\n",
      " [ 0.4-6.1e-01j  0.8+5.7e-01j -0.6+3.2e-02j -0.1-1.1e-01j  0.2-6.7e-02j\n",
      "  -0. +8.1e-02j]\n",
      " [ 0.1-4.3e-01j -0.1+1.6e-01j -0.7+2.5e+00j -0.6+7.8e-02j  0.2+2.1e-02j\n",
      "   3.7+3.8e-02j]\n",
      " [-0.6-1.2e+00j  0.5+2.1e-01j -1.4-7.3e-01j -1.4+1.3e+00j  0.1-7.2e-01j\n",
      "  -0.5+2.2e+00j]\n",
      " [-0.4+1.9e+00j -0.5-1.8e+00j -0.9+2.0e+00j  2.7-1.6e-01j -2.2+1.3e+00j\n",
      "   3. +5.0e-01j]\n",
      " [-0.3+8.0e-01j  0.1+6.7e-01j -1.4-1.3e+00j  1.2+6.2e-02j  0.9-3.7e-01j\n",
      "  -1.3+2.3e+00j]\n",
      " [-0.1-5.1e-01j -0.9-1.7e-01j -0.6+1.6e-01j -0.6+3.7e-01j  0.1+1.3e+00j\n",
      "   0.4+6.9e-01j]\n",
      " [-0.9+5.3e-01j -0.7-1.3e+00j  0.8+3.5e-01j  1.1+1.1e+00j -1.6+1.4e+00j\n",
      "   0.2-1.1e+00j]]\n"
     ]
    }
   ],
   "source": [
    "I,P,J,Q = 4,2,6,3\n",
    "A = np.random.randn(I,P) + 1j*np.random.randn(I,P)\n",
    "B = np.random.randn(J,Q) + 1j*np.random.randn(J,Q)\n",
    "X = tl.tenalg.kronecker([A,B])\n",
    "print('Transmited Signal X:')\n",
    "print(X)"
   ]
  },
  {
   "cell_type": "code",
   "execution_count": 5,
   "metadata": {},
   "outputs": [
    {
     "name": "stdout",
     "output_type": "stream",
     "text": [
      "Normalized Mean Square Error:\n",
      "1.7850472867776424e-31\n",
      "Stimated Signal X:\n",
      "[[-0.3+5.8e-02j  0.1+1.7e-03j  1.8-1.1e-01j  0.2+1.4e-01j -0.1-6.7e-02j\n",
      "  -0.9-9.6e-01j]\n",
      " [-0.6+6.6e-01j  0. -3.5e-01j -0.1+1.1e+00j  0.7+4.8e-02j -0.2+1.4e-01j\n",
      "   0.7-4.1e-01j]\n",
      " [ 1.3-1.7e-01j -1. +7.0e-01j  1.5+1.4e-01j -0.7-6.5e-01j  0.9+2.6e-01j\n",
      "  -0.6-9.1e-01j]\n",
      " [ 0.6-1.0e-02j  0.4-2.1e-01j -0.5+1.1e+00j -0.3-3.2e-01j -0.3-1.3e-01j\n",
      "   0.9-2.3e-01j]\n",
      " [-0.3+2.0e-01j  0.1+6.3e-01j  0.2+3.2e-01j  0.3+7.6e-02j  0.3-3.4e-01j\n",
      "   0.1-2.8e-01j]\n",
      " [ 0.5+4.8e-01j -0.7+7.4e-01j  0.1-5.6e-01j  0. -5.3e-01j  0.7+6.1e-02j\n",
      "  -0.3+2.2e-01j]\n",
      " [ 0.4+5.4e-01j -0.1-2.4e-01j -1.7-3.5e+00j -0.3-2.8e-01j  0.1+1.3e-01j\n",
      "   1.5+1.9e+00j]\n",
      " [ 1.9+7.1e-01j -0.7+2.3e-01j  2.3-5.9e-01j -1.2-1.8e-01j  0.4-2.3e-01j\n",
      "  -1.3+6.6e-01j]\n",
      " [-1.4-2.5e+00j  2.3+1.5e+00j -0.9-3.1e+00j  1.2+1.3e+00j -1.6-6.0e-01j\n",
      "   1. +1.8e+00j]\n",
      " [-0.5-1.2e+00j -0.8-6.5e-01j  2.8+1.2e-01j  0.4+6.3e-01j  0.5+2.9e-01j\n",
      "  -1.7+2.9e-01j]\n",
      " [ 0.7+4.3e-01j  1.2-7.1e-01j  0.5-7.2e-01j -0.4-1.8e-01j -0.6+5.8e-01j\n",
      "  -0.2+5.0e-01j]\n",
      " [ 0.5-1.5e+00j  2.1+8.2e-01j -1.2+3.4e-01j -0.1+9.8e-01j -1.4-2.2e-01j\n",
      "   0.7-3.6e-01j]\n",
      " [ 0.1+2.7e-01j -0. -1.1e-01j -0.4-1.7e+00j  0. +1.0e-02j -0. -7.9e-03j\n",
      "  -0.3-1.0e-01j]\n",
      " [ 0.8+5.0e-01j -0.4+2.7e-02j  1.1-3.1e-02j  0.1-6.1e-02j -0. +5.2e-02j\n",
      "   0.1-1.6e-01j]\n",
      " [-0.4-1.2e+00j  0.9+8.8e-01j -0.1-1.5e+00j -0.2-5.8e-02j  0.2-4.1e-02j\n",
      "  -0.2-1.2e-01j]\n",
      " [-0.1-5.6e-01j -0.3-3.6e-01j  1.2+3.3e-01j -0.1-3.6e-02j -0.1+5.4e-03j\n",
      "   0.2-1.4e-01j]\n",
      " [ 0.2+2.6e-01j  0.6-1.9e-01j  0.3-2.7e-01j  0.1-1.1e-02j  0. -1.0e-01j\n",
      "  -0. -6.4e-02j]\n",
      " [ 0.4-6.1e-01j  0.8+5.7e-01j -0.6+3.2e-02j -0.1-1.1e-01j  0.2-6.7e-02j\n",
      "  -0. +8.1e-02j]\n",
      " [ 0.1-4.3e-01j -0.1+1.6e-01j -0.7+2.5e+00j -0.6+7.8e-02j  0.2+2.1e-02j\n",
      "   3.7+3.8e-02j]\n",
      " [-0.6-1.2e+00j  0.5+2.1e-01j -1.4-7.3e-01j -1.4+1.3e+00j  0.1-7.2e-01j\n",
      "  -0.5+2.2e+00j]\n",
      " [-0.4+1.9e+00j -0.5-1.8e+00j -0.9+2.0e+00j  2.7-1.6e-01j -2.2+1.3e+00j\n",
      "   3. +5.0e-01j]\n",
      " [-0.3+8.0e-01j  0.1+6.7e-01j -1.4-1.3e+00j  1.2+6.2e-02j  0.9-3.7e-01j\n",
      "  -1.3+2.3e+00j]\n",
      " [-0.1-5.1e-01j -0.9-1.7e-01j -0.6+1.6e-01j -0.6+3.7e-01j  0.1+1.3e+00j\n",
      "   0.4+6.9e-01j]\n",
      " [-0.9+5.3e-01j -0.7-1.3e+00j  0.8+3.5e-01j  1.1+1.1e+00j -1.6+1.4e+00j\n",
      "   0.2-1.1e+00j]]\n"
     ]
    }
   ],
   "source": [
    "[X_hat,nmse] = LSKronF(X,I,P,J,Q)\n",
    "print('Normalized Mean Square Error:')\n",
    "print(nmse)\n",
    "print('Stimated Signal X:')\n",
    "print(X_hat)"
   ]
  },
  {
   "cell_type": "markdown",
   "metadata": {},
   "source": [
    "# Test with kronf_matrix.mat"
   ]
  },
  {
   "cell_type": "code",
   "execution_count": 6,
   "metadata": {},
   "outputs": [],
   "source": [
    "#Is possible to load the .mat directly in the workspace, but some pre-processing will be needed to correctly since the received .mat file\n",
    "#is based on fortran language.\n",
    "#So to make things easier for now A and B presented in the .mat file are redefined bellow as a python array.\n",
    "\n",
    "A = np.array([[ 1.521, -2.14 ,  0.056],\n",
    "              [-1.175,  2.987,  0.247],\n",
    "              [ 0.139, -0.958, -0.15 ],\n",
    "              [-0.462, -0.177, -0.193]])\n",
    "\n",
    "B = np.array([[ 1.118, -2.518],\n",
    "              [ 0.442,  0.429],\n",
    "              [-0.046,  0.496],\n",
    "              [ 0.589, -0.449]])\n",
    "\n",
    "#Construction of the X signal.\n",
    "X = tl.tenalg.kronecker([A,B])"
   ]
  },
  {
   "cell_type": "code",
   "execution_count": 7,
   "metadata": {},
   "outputs": [],
   "source": [
    "[X_hat,nmse] = LSKronF(X,4,3,4,2)"
   ]
  },
  {
   "cell_type": "code",
   "execution_count": 8,
   "metadata": {},
   "outputs": [
    {
     "name": "stdout",
     "output_type": "stream",
     "text": [
      "Know:\n",
      "[[ 1.7e+00 -3.8e+00 -2.4e+00  5.4e+00  6.3e-02 -1.4e-01]\n",
      " [ 6.7e-01  6.5e-01 -9.5e-01 -9.2e-01  2.5e-02  2.4e-02]\n",
      " [-7.0e-02  7.5e-01  9.8e-02 -1.1e+00 -2.6e-03  2.8e-02]\n",
      " [ 9.0e-01 -6.8e-01 -1.3e+00  9.6e-01  3.3e-02 -2.5e-02]\n",
      " [-1.3e+00  3.0e+00  3.3e+00 -7.5e+00  2.8e-01 -6.2e-01]\n",
      " [-5.2e-01 -5.0e-01  1.3e+00  1.3e+00  1.1e-01  1.1e-01]\n",
      " [ 5.4e-02 -5.8e-01 -1.4e-01  1.5e+00 -1.1e-02  1.2e-01]\n",
      " [-6.9e-01  5.3e-01  1.8e+00 -1.3e+00  1.5e-01 -1.1e-01]\n",
      " [ 1.6e-01 -3.5e-01 -1.1e+00  2.4e+00 -1.7e-01  3.8e-01]\n",
      " [ 6.1e-02  6.0e-02 -4.2e-01 -4.1e-01 -6.6e-02 -6.4e-02]\n",
      " [-6.4e-03  6.9e-02  4.4e-02 -4.8e-01  6.9e-03 -7.4e-02]\n",
      " [ 8.2e-02 -6.2e-02 -5.6e-01  4.3e-01 -8.8e-02  6.7e-02]\n",
      " [-5.2e-01  1.2e+00 -2.0e-01  4.5e-01 -2.2e-01  4.9e-01]\n",
      " [-2.0e-01 -2.0e-01 -7.8e-02 -7.6e-02 -8.5e-02 -8.3e-02]\n",
      " [ 2.1e-02 -2.3e-01  8.1e-03 -8.8e-02  8.9e-03 -9.6e-02]\n",
      " [-2.7e-01  2.1e-01 -1.0e-01  7.9e-02 -1.1e-01  8.7e-02]]\n",
      "Stimated:\n",
      "[[ 1.7e+00 -3.8e+00 -2.4e+00  5.4e+00  6.3e-02 -1.4e-01]\n",
      " [ 6.7e-01  6.5e-01 -9.5e-01 -9.2e-01  2.5e-02  2.4e-02]\n",
      " [-7.0e-02  7.5e-01  9.8e-02 -1.1e+00 -2.6e-03  2.8e-02]\n",
      " [ 9.0e-01 -6.8e-01 -1.3e+00  9.6e-01  3.3e-02 -2.5e-02]\n",
      " [-1.3e+00  3.0e+00  3.3e+00 -7.5e+00  2.8e-01 -6.2e-01]\n",
      " [-5.2e-01 -5.0e-01  1.3e+00  1.3e+00  1.1e-01  1.1e-01]\n",
      " [ 5.4e-02 -5.8e-01 -1.4e-01  1.5e+00 -1.1e-02  1.2e-01]\n",
      " [-6.9e-01  5.3e-01  1.8e+00 -1.3e+00  1.5e-01 -1.1e-01]\n",
      " [ 1.6e-01 -3.5e-01 -1.1e+00  2.4e+00 -1.7e-01  3.8e-01]\n",
      " [ 6.1e-02  6.0e-02 -4.2e-01 -4.1e-01 -6.6e-02 -6.4e-02]\n",
      " [-6.4e-03  6.9e-02  4.4e-02 -4.8e-01  6.9e-03 -7.4e-02]\n",
      " [ 8.2e-02 -6.2e-02 -5.6e-01  4.3e-01 -8.8e-02  6.7e-02]\n",
      " [-5.2e-01  1.2e+00 -2.0e-01  4.5e-01 -2.2e-01  4.9e-01]\n",
      " [-2.0e-01 -2.0e-01 -7.8e-02 -7.6e-02 -8.5e-02 -8.3e-02]\n",
      " [ 2.1e-02 -2.3e-01  8.1e-03 -8.8e-02  8.9e-03 -9.6e-02]\n",
      " [-2.7e-01  2.1e-01 -1.0e-01  7.9e-02 -1.1e-01  8.7e-02]]\n",
      "NMSE:\n",
      "1.3461031678900704e-31\n"
     ]
    }
   ],
   "source": [
    "print('Know:')\n",
    "print(X)\n",
    "print('Stimated:')\n",
    "print(np.real(X_hat))\n",
    "print('NMSE:')\n",
    "print(nmse)"
   ]
  },
  {
   "cell_type": "markdown",
   "metadata": {},
   "source": [
    "So as we can see the stimation of the signal X can be considered perfect under the LSKronF Algorithm in a ideal scenario where the signal isn't corrupted by any kind of noise. It's also worth note that the individual stimations of A and B are considerably inaccurate but their $\\otimes$ product precisaly create a stimation of the signal X. This occurs because the operation of multiplication between scalars are not unique, as already seen in the previously homework."
   ]
  },
  {
   "cell_type": "markdown",
   "metadata": {},
   "source": [
    "# Monte Carlo Experiments \n",
    "\n",
    "Assuming 1000 Monte Carlo experiments, generate  $\\mathbf{X_{0}} = \\mathbf{A} \\otimes \\mathbf{B} \\in \\mathbb{C}^{IJ \\times PQ}$, for randomly chosen $\\mathbf{A} \\in \\mathbb{C}^{I \\times P}$ and $\\mathbf{B} \\in \\mathbb{C}^{J \\times Q}$, whose elements are drawn from a normal distribution. Let $\\mathbf{X} = \\mathbf{X_{0}} + \\alpha \\mathbf{V}$ be a noisy version of $\\mathbf{X_{0}}$ where $\\mathbf{V}$ is the additive noise term, whose elements are drawn from a normal distribution. The parameter $\\alpha$ controls the power (variance) of the noise term, and is defined as a function of the signal to noise ratio (SNR), in dB, as follows:\n",
    "\n",
    "\\begin{equation}\n",
    "    SNR_{dB} = 10 \\log_{10} \\frac{||\\mathbf{X_{0}}||^{2}_{F}}{||\\alpha \\mathbf{V}||^{2}_{F}}\n",
    "\\end{equation}\n",
    "\n",
    "Assuming the SNR range $[0, 5, 10, 15, 20, 25, 30]$ dB, find the estimates $\\hat{\\mathbf{A}}$ and $\\hat{\\mathbf{B}}$ obtained with the LSKRF algorithm for the configurations $(I, J) = (2, 4),(P,Q) = (3,5)$ and $(I,J) = (4,8),(P, Q) = (3, 5)$. Let us define the normalized mean square error (NMSE) measure as follows:\n",
    "\n",
    "\\begin{equation}\n",
    "    NMSE(\\mathbf{X_{0}}) = \\frac{1}{1000} \\sum^{1000}_{i = 1} \\frac{||\\hat{\\mathbf{X_{0}(i)}} - \\mathbf{X_{0}(i)}||^{2}_{F}}{||\\mathbf{X_{0}(i)}||^{2}_{F}}\n",
    "\\end{equation}\n",
    "\n",
    "where $\\mathbf{X_{0}(i)}$ and $\\hat{\\mathbf{X_{0}(i)}}$ represent the original data matrix and the reconstructed one at the ith experiment, respectively. For each SNR value and configuration, plot the NMSE vs. SNR curve. Discuss the obtained results.\n",
    "\n",
    "<font color='red'>Solution:</font>"
   ]
  },
  {
   "cell_type": "code",
   "execution_count": 2,
   "metadata": {},
   "outputs": [],
   "source": [
    "def LSKronF_montecarlo(X_0,I,P,J,Q,SNR_dB):\n",
    "    #X_0: The uncorrupted signal X = A ⊗ B ∈ C^{IJ×PQ}, where A ∈ C^{I×P} and B ∈ C^{J×Q}.\n",
    "    #(I,P,J,Q): Dimensions of A and B as mentioned above.\n",
    "    #SNR_dB: A vector of SNR values in decibels.\n",
    "    \n",
    "    #Obtaining the size of the array SNR_db\n",
    "    Size = len(SNR_dB)\n",
    "    #Creating an array to alocate the values of NMSE per run.\n",
    "    NMSE = np.zeros(Size)\n",
    "    \n",
    "    #This loop controls the number of runs in the Monte Carlo simulation.\n",
    "    for k in range(0,1000):\n",
    "        \n",
    "        #Creating the noise array.\n",
    "        V = np.random.normal(0,1,[I*J,P*Q]) + 1j*np.random.normal(0,1,[I*J,P*Q])\n",
    "        \n",
    "        #This loop will run through the SNR_db vector.\n",
    "        for i in range(0,Size):\n",
    "            \n",
    "            #Converting the SNR that it is in dB to the linear scale.\n",
    "            SNR_Linear = 10**(SNR_dB[i]/10)\n",
    "            \n",
    "            #The process to obtain the value of alpha that will adjust the noise to the desirable value of SNR.\n",
    "            alphaV = ((np.linalg.norm(X_0,'fro'))**2)/SNR_Linear\n",
    "            alpha = np.sqrt(alphaV/((np.linalg.norm(V,'fro'))**2))\n",
    "            \n",
    "            #Adding the desirable noise to the original signal X_0.\n",
    "            X = X_0 + alpha*V\n",
    "            [_,nmse] = LSKronF(X,I,P,J,Q)\n",
    "           \n",
    "            #Obtaining the NMSE for the k-th run of the MCS at the SNR_dB[i].\n",
    "            NMSE[i] = NMSE[i] + nmse\n",
    "    \n",
    "    #Obtaining the mean of all the runs.\n",
    "    NMSE = NMSE/1000\n",
    "    \n",
    "    return NMSE"
   ]
  },
  {
   "cell_type": "markdown",
   "metadata": {},
   "source": [
    "Bellow the asked configurations are generated:"
   ]
  },
  {
   "cell_type": "code",
   "execution_count": 10,
   "metadata": {},
   "outputs": [],
   "source": [
    "I,P,J,Q = 2,3,4,5\n",
    "SNR_dB = [0,5,10,15,20,25,30]\n",
    "A = np.random.randn(I,P) \n",
    "B = np.random.randn(J,Q)\n",
    "X_0 = tl.tenalg.kronecker([A,B])"
   ]
  },
  {
   "cell_type": "code",
   "execution_count": 11,
   "metadata": {},
   "outputs": [],
   "source": [
    "NMSE1 = LSKronF_montecarlo(X_0,I,P,J,Q,SNR_dB)"
   ]
  },
  {
   "cell_type": "code",
   "execution_count": 12,
   "metadata": {},
   "outputs": [],
   "source": [
    "I,P,J,Q = 4,3,8,5\n",
    "SNR_dB = [0,5,10,15,20,25,30]\n",
    "A = np.random.randn(I,P) \n",
    "B = np.random.randn(J,Q)\n",
    "X_0 = tl.tenalg.kronecker([A,B])"
   ]
  },
  {
   "cell_type": "code",
   "execution_count": 13,
   "metadata": {},
   "outputs": [],
   "source": [
    "NMSE2 = LSKronF_montecarlo(X_0,I,P,J,Q,SNR_dB)"
   ]
  },
  {
   "cell_type": "code",
   "execution_count": 14,
   "metadata": {},
   "outputs": [
    {
     "data": {
      "image/png": "[encoded data removed]",
      "text/plain": [
       "<Figure size 432x288 with 1 Axes>"
      ]
     },
     "metadata": {},
     "output_type": "display_data"
    }
   ],
   "source": [
    "plt.figure()\n",
    "plt.semilogy(SNR_dB,NMSE1,'b', label = '(I,J) = (2,4),(P,Q) = (3,5)')\n",
    "plt.semilogy(SNR_dB,NMSE2,'r', label = '(I,J) = (4,8),(P,Q) = (3,5)')\n",
    "plt.title('SNR x NMSE for LSKronF')\n",
    "plt.xlabel('Signal to Noise Ratio(dB)')\n",
    "plt.ylabel('Normalized Mean Square Error')\n",
    "plt.legend()\n",
    "plt.show()"
   ]
  },
  {
   "cell_type": "markdown",
   "metadata": {},
   "source": [
    "As expected at low values of SNR the noise is so strong that the stimated signal is almost completely diferent from the transmited signal. However as the SNR value increase the NMSE values quickly reduce to zero before his maximum value at 30dB. Also is worth note that the change of scenario of (I,J,P,Q) = (2,4,3,5) to (I,J,P,Q) = (4,8,3,5) praticaly didn't change the NMSE values."
   ]
  },
  {
   "cell_type": "markdown",
   "metadata": {},
   "source": [
    "## About this notebook\n",
    "\n",
    "**Author**: Kenneth B. dos A. Benício\n",
    "\n",
    "**Uptaded on**: 2020-03-30"
   ]
  }
 ],
 "metadata": {
  "kernelspec": {
   "display_name": "Python 3",
   "language": "python",
   "name": "python3"
  },
  "language_info": {
   "codemirror_mode": {
    "name": "ipython",
    "version": 3
   },
   "file_extension": ".py",
   "mimetype": "text/x-python",
   "name": "python",
   "nbconvert_exporter": "python",
   "pygments_lexer": "ipython3",
   "version": "3.7.6"
  }
 },
 "nbformat": 4,
 "nbformat_minor": 4
}

{
 "cells": [
  {
   "cell_type": "code",
   "execution_count": 1,
   "metadata": {},
   "outputs": [
    {
     "name": "stderr",
     "output_type": "stream",
     "text": [
      "Using numpy backend.\n"
     ]
    }
   ],
   "source": [
    "#Importing the usual libraries.\n",
    "import numpy as np\n",
    "import tensorly as tl\n",
    "import seaborn as sns\n",
    "import multilinearalgebra \n",
    "import matplotlib.pyplot as plt\n",
    "\n",
    "from scipy.io import loadmat\n",
    "\n",
    "#Setting style options.\n",
    "sns.set()\n",
    "np.set_printoptions(3)"
   ]
  },
  {
   "cell_type": "markdown",
   "metadata": {},
   "source": [
    "The following packages are used in this notebook:\n",
    "\n",
    "- `numpy 1.18.1`\n",
    "- `tensorly 0.4.3`\n",
    "- `seaborn 0.10.0`"
   ]
  },
  {
   "cell_type": "markdown",
   "metadata": {},
   "source": [
    "# Problem 1\n",
    "\n",
    "For a third-order tensor $\\mathbf{\\mathcal{X}} \\in \\mathbb{C}^{I \\times J \\times K}$ implement the truncated high-order singular value decomposition (HOSVD), using the following prototype function:\n",
    "\n",
    "\\begin{equation}\n",
    "    [\\mathbf{\\mathcal{S}},\\mathbf{U}^{(1)},\\mathbf{U}^{(2)},\\mathbf{U}^{(3)}] = hosvd(\\mathbf{\\mathcal{X}})\n",
    "\\end{equation}\n",
    "\n",
    "Hint: Use the file “hosvd_test.mat” to validate your results.\n",
    "\n",
    "<font color='red'>Solution:</font>"
   ]
  },
  {
   "cell_type": "code",
   "execution_count": 2,
   "metadata": {},
   "outputs": [],
   "source": [
    "def HOSVD(tensor,*ranks):\n",
    "    \n",
    "    #Full-rank HOSVD\n",
    "    if len(ranks) == 0:\n",
    "        U = []\n",
    "        for i in range(0,tensor.ndim):\n",
    "            [u,_,_] = np.linalg.svd(multilinearalgebra.unfold(tensor,i))\n",
    "            u = u.conj().T\n",
    "            U.append(u)\n",
    "        \n",
    "        if len(np.array(U).shape) == 1:\n",
    "            k = np.array(U)[-2:]\n",
    "            U = np.append(k,(np.array(U)[0:-2:]))\n",
    "        \n",
    "        else:\n",
    "            k = np.array(U)[-2:]\n",
    "            U = np.append(k,(np.array(U)[0:-2:])).reshape(np.array(U).shape)\n",
    "        \n",
    "        S = multilinearalgebra.ten_mat_multiprod(tensor,np.array(U))\n",
    "    \n",
    "        for i in range(0,tensor.ndim):\n",
    "            U[i] = U[i].conj().T\n",
    "            \n",
    "    #Truncated HOSVD       \n",
    "    else:\n",
    "        U = []\n",
    "        for i in range(0,X.ndim):\n",
    "            [u,s,_] = np.linalg.svd(multilinearalgebra.unfold(tensor,i))\n",
    "            u = u[:,0:ranks[i]]\n",
    "            u = u.conj().T\n",
    "            U.append(u)\n",
    "        \n",
    "        if len(np.array(U).shape) == 1:\n",
    "            k = np.array(U)[-2:]\n",
    "            U = np.append(k,(np.array(U)[0:-2:]))\n",
    "        \n",
    "        else:\n",
    "            k = np.array(U)[-2:]\n",
    "            U = np.append(k,(np.array(U)[0:-2:])).reshape(np.array(U).shape)\n",
    "        \n",
    "        S = multilinearalgebra.ten_mat_multiprod(tensor,np.array(U))\n",
    "        \n",
    "        for i in range(0,tensor.ndim):\n",
    "            U[i] = U[i].conj().T\n",
    "    \n",
    "    return S,U,S.shape"
   ]
  },
  {
   "cell_type": "code",
   "execution_count": 3,
   "metadata": {},
   "outputs": [],
   "source": [
    "def HOSVD_epsilon(tensor,epsilon):\n",
    "    \n",
    "    U = []\n",
    "    for i in range(0,tensor.ndim):\n",
    "        [u,s,_] = np.linalg.svd(multilinearalgebra.unfold(tensor,i))\n",
    "        s[s < epsilon] = 0\n",
    "        s = [i for i in s if i != 0]\n",
    "        s = len(s)\n",
    "        u = u[:,0:s]\n",
    "        u = u.conj().T\n",
    "        U.append(u)\n",
    "        \n",
    "    if len(np.array(U).shape) == 1:\n",
    "        k = np.array(U)[-2:]\n",
    "        U = np.append(k,(np.array(U)[0:-2:]))\n",
    "        \n",
    "    else:\n",
    "        k = np.array(U)[-2:]\n",
    "        U = np.append(k,(np.array(U)[0:-2:])).reshape(np.array(U).shape)\n",
    "        \n",
    "    S = multilinearalgebra.ten_mat_multiprod(tensor,np.array(U))\n",
    "    \n",
    "    for i in range(0,tensor.ndim):\n",
    "        U[i] = U[i].conj().T\n",
    "    \n",
    "    return S,U,S.shape"
   ]
  },
  {
   "cell_type": "code",
   "execution_count": 4,
   "metadata": {},
   "outputs": [],
   "source": [
    "def HOOI(tensor,epsilon,*ranks):\n",
    "    \n",
    "    #Full-rank HOOI\n",
    "    if len(ranks) == 0:\n",
    "        [S_init,U_init,_] = HOSVD(tensor)\n",
    "        \n",
    "        for k in range(0,10):\n",
    "            U = []\n",
    "            \n",
    "            for i in range(0,tensor.ndim):\n",
    "                #Matrix Selection\n",
    "                aux = np.ones(tensor.ndim, dtype=bool)\n",
    "                aux[i] = False\n",
    "                U_aux = np.asarray(U_init)\n",
    "                U_aux = U_aux[aux]\n",
    "            \n",
    "                #Creating the list of U matrices\n",
    "                modes = np.zeros([tensor.ndim-1],dtype='int8')\n",
    "                for j in range(0,tensor.ndim-1):\n",
    "                    modes[j] = multilinearalgebra.mode(U_aux[j],tensor)\n",
    "                \n",
    "                u = multilinearalgebra.ten_mat_multiprod(tensor,np.array(U_aux),*modes)\n",
    "                [u,_,_] = np.linalg.svd(multilinearalgebra.unfold(u,i))\n",
    "                u = u.conj().T\n",
    "                U.append(u)\n",
    "            \n",
    "            #Creating the core tensor\n",
    "            S = multilinearalgebra.ten_mat_multiprod(tensor,np.array(U),*np.arange(0,tensor.ndim))\n",
    "            \n",
    "            #Convergence\n",
    "            if multilinearalgebra.normalized_mean_square_error(S,S_init) > epsilon:\n",
    "                #print('NMSE Error for the iteration',k + 1,'.')\n",
    "                #print(multilinearalgebra.normalized_mean_square_error(S,S_init))\n",
    "                S_init = S\n",
    "                U_init = U \n",
    "            \n",
    "            else:\n",
    "                for i in range(0,tensor.ndim):\n",
    "                    U[i] = U[i].conj().T\n",
    "                    \n",
    "                break\n",
    "                \n",
    "    #Truncated HOOI          \n",
    "    else:\n",
    "        [S_init,U_init,_] = HOSVD(tensor,*ranks)\n",
    "        \n",
    "        for k in range(0,10):\n",
    "            U = []\n",
    "            \n",
    "            for i in range(0,tensor.ndim):\n",
    "                #Matrix Selection\n",
    "                aux = np.ones(tensor.ndim, dtype=bool)\n",
    "                aux[i] = False\n",
    "                U_aux = np.asarray(U_init)\n",
    "                U_aux = U_aux[aux]\n",
    "            \n",
    "                #Creating the list of U matrices\n",
    "                modes = np.zeros([tensor.ndim-1],dtype='int8')\n",
    "                for j in range(0,tensor.ndim-1):\n",
    "                    modes[j] = multilinearalgebra.mode(U_aux[j],tensor)\n",
    "                \n",
    "                u = multilinearalgebra.ten_mat_multiprod(tensor,np.array(U_aux),*modes)\n",
    "                [u,_,_] = np.linalg.svd(multilinearalgebra.unfold(u,i))\n",
    "                u = u[:, :ranks[i]]\n",
    "                u = u.conj().T\n",
    "                U.append(u)\n",
    "        \n",
    "            #Creating the core tensor\n",
    "            S = multilinearalgebra.ten_mat_multiprod(tensor,np.array(U),*np.arange(0,tensor.ndim))\n",
    "            \n",
    "            #Convergence\n",
    "            if multilinearalgebra.normalized_mean_square_error(S,S_init) > epsilon:\n",
    "                S_init = S\n",
    "                U_init = U \n",
    "            \n",
    "            else:\n",
    "                for i in range(0,tensor.ndim):\n",
    "                    U[i] = U[i].conj().T\n",
    "                break\n",
    "                \n",
    "    k = np.array(U)[-2:]\n",
    "    U = np.append(k,(np.array(U)[0:-2:]))\n",
    "\n",
    "    return S,U,S.shape"
   ]
  },
  {
   "cell_type": "markdown",
   "metadata": {},
   "source": [
    "# Test with a random tensor for HOSVD algorithm"
   ]
  },
  {
   "cell_type": "code",
   "execution_count": 5,
   "metadata": {},
   "outputs": [
    {
     "name": "stdout",
     "output_type": "stream",
     "text": [
      "NMSE for full rank HOSVD:\n",
      "3.4518648615703476e-31\n",
      "Multilinear rank for full rank HOSVD:\n",
      "(3, 4, 5)\n"
     ]
    }
   ],
   "source": [
    "X = np.random.randn(3,4,5)\n",
    "[X_approx,U,R] = HOSVD(X)\n",
    "X_approx = multilinearalgebra.ten_mat_multiprod(X_approx,np.array(U))\n",
    "\n",
    "print('NMSE for full rank HOSVD:')\n",
    "print(multilinearalgebra.normalized_mean_square_error(X_approx,X))\n",
    "print('Multilinear rank for full rank HOSVD:')\n",
    "print(R)"
   ]
  },
  {
   "cell_type": "markdown",
   "metadata": {},
   "source": [
    "# Test with hosvd_test.mat file for HOSVD algorithm"
   ]
  },
  {
   "cell_type": "code",
   "execution_count": 6,
   "metadata": {},
   "outputs": [],
   "source": [
    "HOSVD_MAT = loadmat('hosvd_test.mat')\n",
    "tenX = HOSVD_MAT['tenX'] \n",
    "tenS = HOSVD_MAT['tenS'] \n",
    "U1 = HOSVD_MAT['U1'] \n",
    "U2 = HOSVD_MAT['U2'] \n",
    "U3 = HOSVD_MAT['U3'] \n",
    "tenX = tenX.transpose(2, 0, 1)\n",
    "tenS = tenS.transpose(2, 0, 1)"
   ]
  },
  {
   "cell_type": "code",
   "execution_count": 7,
   "metadata": {},
   "outputs": [],
   "source": [
    "[S,U,R] = HOSVD(tenX)\n",
    "tenX_approx = multilinearalgebra.ten_mat_multiprod(S,np.array(U))"
   ]
  },
  {
   "cell_type": "code",
   "execution_count": 8,
   "metadata": {},
   "outputs": [
    {
     "name": "stdout",
     "output_type": "stream",
     "text": [
      "NMSE for Stimation of U1:\n",
      "0.0\n",
      "NMSE for Stimation of U2:\n",
      "0.0005771204134077601\n",
      "NMSE for Stimation of U3:\n",
      "0.024065389832155504\n",
      "NMSE for Stimation of S:\n",
      "1.5607066827251084\n",
      "NMSE for Stimation of X:\n",
      "3.079954617776256e-31\n",
      "Multilinear rank for full rank HOSVD:\n",
      "(5, 3, 4)\n"
     ]
    }
   ],
   "source": [
    "print('NMSE for Stimation of U1:')\n",
    "print(multilinearalgebra.normalized_mean_square_error(U[0],U1))\n",
    "\n",
    "print('NMSE for Stimation of U2:')\n",
    "print(multilinearalgebra.normalized_mean_square_error(U[1],U2))\n",
    " \n",
    "print('NMSE for Stimation of U3:')\n",
    "print(multilinearalgebra.normalized_mean_square_error(U[2],U3))\n",
    "\n",
    "print('NMSE for Stimation of S:')\n",
    "print(multilinearalgebra.normalized_mean_square_error(S,tenS))\n",
    "\n",
    "print('NMSE for Stimation of X:')\n",
    "print(multilinearalgebra.normalized_mean_square_error(tenX_approx,tenX))\n",
    "\n",
    "print('Multilinear rank for full rank HOSVD:')\n",
    "print(R)"
   ]
  },
  {
   "cell_type": "markdown",
   "metadata": {},
   "source": [
    "# Test with hosvd_test.mat file for HOOI algorithm"
   ]
  },
  {
   "cell_type": "code",
   "execution_count": 9,
   "metadata": {},
   "outputs": [],
   "source": [
    "[S,U,R] = HOOI(tenX,10**-30)\n",
    "tenX_approx = multilinearalgebra.ten_mat_multiprod(S,np.array(U))"
   ]
  },
  {
   "cell_type": "code",
   "execution_count": 10,
   "metadata": {},
   "outputs": [
    {
     "name": "stdout",
     "output_type": "stream",
     "text": [
      "NMSE for Stimation of U1:\n",
      "2.9505246748012458e-31\n",
      "NMSE for Stimation of U2:\n",
      "0.02018512441411901\n",
      "NMSE for Stimation of U3:\n",
      "1.0086379790151503\n",
      "NMSE for Stimation of S:\n",
      "1.560706682725109\n",
      "NMSE for Stimation of X:\n",
      "2.310073340453022e-31\n",
      "Multilinear rank for full rank HOOI:\n",
      "(5, 3, 4)\n"
     ]
    }
   ],
   "source": [
    "print('NMSE for Stimation of U1:')\n",
    "print(multilinearalgebra.normalized_mean_square_error(U[0],U1))\n",
    "\n",
    "print('NMSE for Stimation of U2:')\n",
    "print(multilinearalgebra.normalized_mean_square_error(U[1],U2))\n",
    " \n",
    "print('NMSE for Stimation of U3:')\n",
    "print(multilinearalgebra.normalized_mean_square_error(U[2],U3))\n",
    "\n",
    "print('NMSE for Stimation of S:')\n",
    "print(multilinearalgebra.normalized_mean_square_error(S,tenS))\n",
    "\n",
    "print('NMSE for Stimation of X:')\n",
    "print(multilinearalgebra.normalized_mean_square_error(tenX_approx,tenX))\n",
    "\n",
    "print('Multilinear rank for full rank HOOI:')\n",
    "print(R)"
   ]
  },
  {
   "cell_type": "markdown",
   "metadata": {},
   "source": [
    "# Problem 2\n",
    "\n",
    "Consider the two third-order tensors  $\\mathbf{\\mathcal{X}} \\in \\mathbb{C}^{8 \\times 4 \\times 10}$ and $\\mathbf{\\mathcal{X}} \\in \\mathbb{C}^{5 \\times 5 \\times 5}$ provided in the data file “hosvd_denoising.mat”. By using your HOSVD prototype function, find a low multilinear rank approximation for these tensors, defined as $\\mathbf{\\mathcal{X}} \\in \\mathbb{C}^{R_{1} \\times R_{2} \\times R_{3}}$  and $\\mathbf{\\mathcal{Y}} \\in \\mathbb{C}^{P_{1} \\times P_{2} \\times P_{3}}$. Then, calculate the normalized mean square error (NMSE) between the original tensor and its approximation, i.e.,:\n",
    "\n",
    "\\begin{equation}\n",
    "    NMSE(\\mathbf{\\mathcal{\\tilde{X}}}) = \\frac{||\\mathbf{\\mathcal{\\tilde{X}}} - \\mathbf{\\mathcal{X}}||^{2}_{F}}{||\\mathbf{\\mathcal{X}}||^{2}_{F}}\n",
    "\\end{equation}\n",
    "\n",
    "\\begin{equation}\n",
    "    NMSE(\\mathbf{\\mathcal{\\tilde{Y}}}) = \\frac{||\\mathbf{\\mathcal{\\tilde{Y}}} - \\mathbf{\\mathcal{Y}}||^{2}_{F}}{||\\mathbf{\\mathcal{Y}}||^{2}_{F}}\n",
    "\\end{equation}\n",
    "\n",
    "Hint: The multilinear ranks of X and Y can be found by analysing the profile of the 1-mode, 2-mode and 3-mode singular values of these tensors.\n",
    "\n",
    "<font color='red'>Solution:</font>"
   ]
  },
  {
   "cell_type": "markdown",
   "metadata": {},
   "source": [
    "# Test with a random tensor for HOSVD algorithm"
   ]
  },
  {
   "cell_type": "code",
   "execution_count": 11,
   "metadata": {},
   "outputs": [
    {
     "name": "stdout",
     "output_type": "stream",
     "text": [
      "NMSE for full rank HOSVD:\n",
      "1.1660996401587113e-30\n",
      "NMSE for truncated HOSVD:\n",
      "0.43390703192649954\n",
      "NMSE for truncated HOSVD by an epsion:\n",
      "0.05130476035488607\n",
      "Multilinear Rank of Y for full rank HOSVD:\n",
      "(3, 4, 5)\n",
      "Multilinear Rank of Y for truncated HOSVD1:\n",
      "(3, 2, 3)\n",
      "Multilinear Rank of Y for truncated HOSVD2:\n",
      "(3, 4, 4)\n"
     ]
    }
   ],
   "source": [
    "X = np.random.randn(3,4,5)\n",
    "[X_approx1,U1,R1] = HOSVD(X)\n",
    "[X_approx2,U2,R2] = HOSVD(X,*[3,2,3])\n",
    "[X_approx3,U3,R3] = HOSVD_epsilon(X,2)\n",
    "X_approx1 = multilinearalgebra.ten_mat_multiprod(X_approx1,np.array(U1))\n",
    "X_approx2 = multilinearalgebra.ten_mat_multiprod(X_approx2,np.array(U2))\n",
    "X_approx3 = multilinearalgebra.ten_mat_multiprod(X_approx3,np.array(U3))\n",
    "\n",
    "print('NMSE for full rank HOSVD:')\n",
    "print(multilinearalgebra.normalized_mean_square_error(X_approx1,X))\n",
    "print('NMSE for truncated HOSVD:')\n",
    "print(multilinearalgebra.normalized_mean_square_error(X_approx2,X))\n",
    "print('NMSE for truncated HOSVD by an epsion:')\n",
    "print(multilinearalgebra.normalized_mean_square_error(X_approx3,X))\n",
    "\n",
    "print('Multilinear Rank of Y for full rank HOSVD:')\n",
    "print(R1)\n",
    "print('Multilinear Rank of Y for truncated HOSVD1:')\n",
    "print(R2)\n",
    "print('Multilinear Rank of Y for truncated HOSVD2:')\n",
    "print(R3)"
   ]
  },
  {
   "cell_type": "markdown",
   "metadata": {},
   "source": [
    "# Test with hosvd_denoising.mat file for HOSVD algorithm"
   ]
  },
  {
   "cell_type": "code",
   "execution_count": 12,
   "metadata": {},
   "outputs": [],
   "source": [
    "HOSVD_MAT = loadmat('hosvd_denoising.mat')\n",
    "tenX_noise = HOSVD_MAT['tenX_noise'] \n",
    "tenY_noise = HOSVD_MAT['tenY_noise'] \n",
    "tenX_noise = tenX_noise.transpose(2, 0, 1)\n",
    "tenY_noise = tenY_noise.transpose(2, 0, 1)"
   ]
  },
  {
   "cell_type": "code",
   "execution_count": 13,
   "metadata": {},
   "outputs": [
    {
     "name": "stdout",
     "output_type": "stream",
     "text": [
      "NMSE for full rank HOSVD:\n",
      "5.103623423476849e-31\n",
      "NMSE for truncated HOSVD:\n",
      "0.047986502757933126\n",
      "NMSE for truncated HOSVD2 by an epsilon:\n",
      "0.00012141882449270083\n",
      "Multilinear Rank of X for full rank HOSVD:\n",
      "(10, 8, 4)\n",
      "Multilinear Rank of X for truncated HOSVD:\n",
      "(5, 4, 2)\n",
      "Multilinear Rank of X for truncated HOSVD by an epsilon:\n",
      "(5, 2, 3)\n"
     ]
    }
   ],
   "source": [
    "[S1,U1,R1] = HOSVD(tenX_noise)\n",
    "[S2,U2,R2] = HOSVD(tenX_noise,*[5,4,2])\n",
    "[S3,U3,R3] = HOSVD_epsilon(tenX_noise,3)\n",
    "tenX_noise_approx1 = multilinearalgebra.ten_mat_multiprod(S1,np.array(U1))\n",
    "tenX_noise_approx2 = multilinearalgebra.ten_mat_multiprod(S2,np.array(U2))\n",
    "tenX_noise_approx3 = multilinearalgebra.ten_mat_multiprod(S3,np.array(U3))\n",
    "\n",
    "print('NMSE for full rank HOSVD:')\n",
    "print(multilinearalgebra.normalized_mean_square_error(tenX_noise_approx1,tenX_noise))\n",
    "print('NMSE for truncated HOSVD:')\n",
    "print(multilinearalgebra.normalized_mean_square_error(tenX_noise_approx2,tenX_noise))\n",
    "print('NMSE for truncated HOSVD2 by an epsilon:')\n",
    "print(multilinearalgebra.normalized_mean_square_error(tenX_noise_approx3,tenX_noise))\n",
    "\n",
    "print('Multilinear Rank of X for full rank HOSVD:')\n",
    "print(R1)\n",
    "print('Multilinear Rank of X for truncated HOSVD:')\n",
    "print(R2)\n",
    "print('Multilinear Rank of X for truncated HOSVD by an epsilon:')\n",
    "print(R3)"
   ]
  },
  {
   "cell_type": "code",
   "execution_count": 14,
   "metadata": {},
   "outputs": [
    {
     "name": "stdout",
     "output_type": "stream",
     "text": [
      "NMSE for full rank HOSVD:\n",
      "1.2820802734839317e-31\n",
      "NMSE for truncated HOSVD1:\n",
      "0.012793078937238243\n",
      "NMSE for truncated HOSVD2:\n",
      "0.01758259280933224\n",
      "Multilinear Rank of Y for full rank HOSVD:\n",
      "(5, 5, 5)\n",
      "Multilinear Rank of Y for truncated HOSVD:\n",
      "(4, 4, 2)\n",
      "Multilinear Rank of Y for truncated HOSVD by an epsilon:\n",
      "(3, 2, 2)\n"
     ]
    }
   ],
   "source": [
    "[S1,U1,R1] = HOSVD(tenY_noise)\n",
    "[S2,U2,R2] = HOSVD(tenY_noise,*[4,4,2])\n",
    "[S3,U3,R3] = HOSVD_epsilon(tenY_noise,0.5)\n",
    "tenY_noise_approx1 = multilinearalgebra.ten_mat_multiprod(S1,np.array(U1))\n",
    "tenY_noise_approx2 = multilinearalgebra.ten_mat_multiprod(S2,np.array(U2))\n",
    "tenY_noise_approx3 = multilinearalgebra.ten_mat_multiprod(S3,np.array(U3))\n",
    "\n",
    "print('NMSE for full rank HOSVD:')\n",
    "print(multilinearalgebra.normalized_mean_square_error(tenY_noise_approx1,tenY_noise))\n",
    "print('NMSE for truncated HOSVD1:')\n",
    "print(multilinearalgebra.normalized_mean_square_error(tenY_noise_approx2,tenY_noise))\n",
    "print('NMSE for truncated HOSVD2:')\n",
    "print(multilinearalgebra.normalized_mean_square_error(tenY_noise_approx3,tenY_noise))\n",
    "\n",
    "print('Multilinear Rank of Y for full rank HOSVD:')\n",
    "print(R1)\n",
    "print('Multilinear Rank of Y for truncated HOSVD:')\n",
    "print(R2)\n",
    "print('Multilinear Rank of Y for truncated HOSVD by an epsilon:')\n",
    "print(R3)"
   ]
  },
  {
   "cell_type": "markdown",
   "metadata": {},
   "source": [
    "## About this notebook\n",
    "\n",
    "**Author**: Kenneth B. dos A. Benício\n",
    "\n",
    "**Uptaded on**: 2020-04-30"
   ]
  }
 ],
 "metadata": {
  "kernelspec": {
   "display_name": "Python 3",
   "language": "python",
   "name": "python3"
  },
  "language_info": {
   "codemirror_mode": {
    "name": "ipython",
    "version": 3
   },
   "file_extension": ".py",
   "mimetype": "text/x-python",
   "name": "python",
   "nbconvert_exporter": "python",
   "pygments_lexer": "ipython3",
   "version": "3.7.6"
  }
 },
 "nbformat": 4,
 "nbformat_minor": 4
}

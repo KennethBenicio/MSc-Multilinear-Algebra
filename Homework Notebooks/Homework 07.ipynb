{
 "cells": [
  {
   "cell_type": "code",
   "execution_count": 1,
   "metadata": {},
   "outputs": [
    {
     "name": "stderr",
     "output_type": "stream",
     "text": [
      "Using numpy backend.\n"
     ]
    }
   ],
   "source": [
    "#Importing the usual libraries.\n",
    "import numpy as np\n",
    "import tensorly as tl\n",
    "import seaborn as sns\n",
    "import matplotlib.pyplot as plt\n",
    "import multilinearalgebra\n",
    "\n",
    "from tqdm import tqdm\n",
    "from cmath import sqrt\n",
    "from scipy.io import loadmat\n",
    "\n",
    "#Setting style options.\n",
    "sns.set()\n",
    "np.set_printoptions(3)"
   ]
  },
  {
   "cell_type": "markdown",
   "metadata": {},
   "source": [
    "The following packages are used in this notebook:\n",
    "\n",
    "- `numpy 1.18.1`\n",
    "- `tensorly 0.4.3`\n",
    "- `seaborn 0.10.0`"
   ]
  },
  {
   "cell_type": "markdown",
   "metadata": {},
   "source": [
    "# Problem 1\n",
    "\n",
    "On practice 3 we implement the LS-KRF(Least Square Khatri-Rao Factorization) algorithm, now we will go to implement the MLS-KRF(Multidimensional Least Square Khatri-Rao Factorization) algorithm. Then, Let $\\mathbf{X} \\approx \\mathbf{A}^{(1)} \\diamond \\mathbf{A}^{(2)} \\diamond ... \\diamond \\mathbf{A}^{(N)} \\in \\mathbb{C}^{I_{1} I_{2} ... I_{N} \\times R}$ be a matrix composed by Khatri-Rao product of N matrices $\\mathbf{A}^{(n)} \\in \\mathbb{C}^{I_{n} \\times R}$ , with n = 1, 2, . . . , N . For N = 3 and R and $I_{n}$ arbitrary implement the MLS-KRF for that estimate $\\mathbf{A}^{(1)}, \\mathbf{A}^{(2)}$ and $\\mathbf{A}^{(3)}$ by solving the following problem.\n",
    "\n",
    "\\begin{equation}\n",
    "    (\\hat{\\mathbf{A}}^{(1)}, \\hat{\\mathbf{A}}^{(2)}, \\hat{\\mathbf{A}}^{(3)}) = \\underset{\\mathbf{A}, \\mathbf{B}}{min} || \\mathbf{X} - \\mathbf{A}^{(1)}       \\diamond \\mathbf{A}^{(2)} \\diamond \\mathbf{A}^{(3)} ||^{2}_{F}\n",
    "\\end{equation}\n",
    "\n",
    "Compare the estimate matrices $\\hat{\\mathbf{A}}^{(1)}, \\hat{\\mathbf{A}}^{(2)}$ and $\\hat{\\mathbf{A}}^{(3)}$ with the original ones. What can you\n",
    "conclude? Explain the results.\n",
    "\n",
    "Hint: Use the file “krf_matrix_3D.mat” to validate your result.\n",
    "\n",
    "\n",
    "<font color='red'>Solution:</font>"
   ]
  },
  {
   "cell_type": "code",
   "execution_count": 2,
   "metadata": {},
   "outputs": [],
   "source": [
    "def MLSKRF(X,I,R):\n",
    "    \n",
    "    A = []\n",
    "    for i in range(0,len(I)):\n",
    "        a = np.zeros([I[i],R],dtype = 'complex')\n",
    "        A.append(a)\n",
    "        \n",
    "    for i in range(0,R):\n",
    "        X_r = (X[:,i]).reshape(I)\n",
    "        X_r = np.moveaxis(X_r,1,2)\n",
    "\n",
    "        [S,U,_] = multilinearalgebra.HOSVD(X_r)\n",
    "        for j in range(0,len(I)):\n",
    "            A[j][:,i] = (sqrt(S[0,0,0])**(2/len(I)))*U[len(I) - j - 1][:,0]\n",
    "          \n",
    "    return A"
   ]
  },
  {
   "cell_type": "code",
   "execution_count": 3,
   "metadata": {},
   "outputs": [
    {
     "name": "stdout",
     "output_type": "stream",
     "text": [
      "1.523329496019833e-31\n",
      "(24, 5)\n"
     ]
    }
   ],
   "source": [
    "I1,I2,I3,R = 2,3,4,5\n",
    "A1 = np.random.randn(I1,R) + 1j*np.random.randn(I1,R)\n",
    "A2 = np.random.randn(I2,R) + 1j*np.random.randn(I2,R)\n",
    "A3 = np.random.randn(I3,R) + 1j*np.random.randn(I3,R)\n",
    "X = tl.tenalg.khatri_rao((A1,A2,A3))\n",
    "A = MLSKRF(X,[I1,I2,I3],R)\n",
    "X_approx = tl.tenalg.khatri_rao((A))\n",
    "\n",
    "print(multilinearalgebra.normalized_mean_square_error(X,X_approx))\n",
    "print(X.shape)"
   ]
  },
  {
   "cell_type": "code",
   "execution_count": 4,
   "metadata": {},
   "outputs": [
    {
     "name": "stdout",
     "output_type": "stream",
     "text": [
      "NMSE for A1 Stimation:\n",
      "1.685462983104673\n",
      "NMSE for A2 Stimation:\n",
      "1.9534897705455132\n",
      "NMSE for A3 Stimation:\n",
      "1.3622894636675749\n",
      "NMSE for X Stimation:\n",
      "1.523329496019833e-31\n"
     ]
    }
   ],
   "source": [
    "print('NMSE for A1 Stimation:')\n",
    "print(multilinearalgebra.normalized_mean_square_error(A1,A[0]))\n",
    "\n",
    "print('NMSE for A2 Stimation:')\n",
    "print(multilinearalgebra.normalized_mean_square_error(A2,A[1]))\n",
    "\n",
    "print('NMSE for A3 Stimation:')\n",
    "print(multilinearalgebra.normalized_mean_square_error(A3,A[2]))\n",
    "\n",
    "print('NMSE for X Stimation:')\n",
    "print(multilinearalgebra.normalized_mean_square_error(X,X_approx))"
   ]
  },
  {
   "cell_type": "markdown",
   "metadata": {},
   "source": [
    "# Test with krf_matrix_3D.mat file"
   ]
  },
  {
   "cell_type": "code",
   "execution_count": 5,
   "metadata": {},
   "outputs": [],
   "source": [
    "KRF_MATRIX_3D = loadmat('krf_matrix_3D.mat')\n",
    "A1 = KRF_MATRIX_3D['A'] \n",
    "A2 = KRF_MATRIX_3D['B'] \n",
    "A3 = KRF_MATRIX_3D['C'] \n",
    "X = tl.tenalg.khatri_rao((A1,A2,A3))"
   ]
  },
  {
   "cell_type": "code",
   "execution_count": 6,
   "metadata": {},
   "outputs": [
    {
     "name": "stdout",
     "output_type": "stream",
     "text": [
      "[5, 4, 8]\n",
      "4\n"
     ]
    }
   ],
   "source": [
    "I = [A1.shape[0],A2.shape[0],A3.shape[0]]\n",
    "print(I)\n",
    "R = X.shape[1]\n",
    "print(R)"
   ]
  },
  {
   "cell_type": "code",
   "execution_count": 7,
   "metadata": {},
   "outputs": [],
   "source": [
    "A = MLSKRF(X,I,R)\n",
    "X_approx = tl.tenalg.khatri_rao((A))"
   ]
  },
  {
   "cell_type": "code",
   "execution_count": 8,
   "metadata": {},
   "outputs": [
    {
     "name": "stdout",
     "output_type": "stream",
     "text": [
      "NMSE for A1 Stimation:\n",
      "1.6102677822647011\n",
      "NMSE for A2 Stimation:\n",
      "2.677912732605205\n",
      "NMSE for A3 Stimation:\n",
      "2.777433326299716\n",
      "NMSE for X Stimation:\n",
      "6.7285292235233604e-31\n"
     ]
    }
   ],
   "source": [
    "print('NMSE for A1 Stimation:')\n",
    "print(multilinearalgebra.normalized_mean_square_error(A1,A[0]))\n",
    "\n",
    "print('NMSE for A2 Stimation:')\n",
    "print(multilinearalgebra.normalized_mean_square_error(A2,A[1]))\n",
    "\n",
    "print('NMSE for A3 Stimation:')\n",
    "print(multilinearalgebra.normalized_mean_square_error(A3,A[2]))\n",
    "\n",
    "print('NMSE for X Stimation:')\n",
    "print(multilinearalgebra.normalized_mean_square_error(X,X_approx))"
   ]
  },
  {
   "cell_type": "markdown",
   "metadata": {},
   "source": [
    "# Problem 2\n",
    "\n",
    "Assuming 1000 Monte Carlo experiments, generate  $\\mathbf{X_{0}} = \\mathbf{A}\\diamond \\mathbf{B} \\diamond \\mathbf{C} \\in \\mathbb{C}^{I_{1} I_{2} I_{3} \\times R}$, for randomly chosen $\\mathbf{A} \\in \\mathbb{C}^{I_{1} \\times R}$, $\\mathbf{B} \\in \\mathbb{C}^{I_{2} \\times R}$ and $\\mathbf{C} \\in \\mathbb{C}^{I_{3} \\times R}$, with R = 4, whose elements are drawn from a normal distribution. Let $\\mathbf{X} = \\mathbf{X_{0}} + \\alpha \\mathbf{V}$ be a noisy version of $\\mathbf{X}$ where $\\mathbf{V}$ is the additive noise term, whose elements are drawn from a normal distribution. The parameter $\\alpha$ controls the power (variance) of the noise term, and is defined as a function of the signal to noise ratio (SNR), in dB, as follows:\n",
    "\n",
    "\\begin{equation}\n",
    "    SNR_{dB} = 10 \\log_{10} \\frac{||\\mathbf{X_{0}}||^{2}_{F}}{||\\alpha \\mathbf{V}||^{2}_{F}}\n",
    "\\end{equation}\n",
    "\n",
    "Assuming the SNR range $[0, 5, 10, 15, 20, 25, 30]$ dB, find the estimates $\\hat{\\mathbf{A}}$, $\\hat{\\mathbf{B}}$ and $\\hat{\\mathbf{C}}$ obtained with the MLS-KRF algorithm for the configurations $I_{1} = 2$, $I_{2} = 3$ and $I_{3} = 4$. \n",
    "\n",
    "Let us define the normalized mean square error (NMSE) measure as follows:\n",
    "\n",
    "\\begin{equation}\n",
    "    NMSE(\\mathbf{X_{0}}) = \\frac{1}{1000} \\sum^{1000}_{i = 1} \\frac{||\\hat{\\mathbf{X_{0}(i)}} - \\mathbf{X_{0}(i)}||^{2}_{F}}{||\\mathbf{X_{0}(i)}||^{2}_{F}}\n",
    "\\end{equation}\n",
    "\n",
    "where $\\mathbf{X_{0}(i)}$ and $\\hat{\\mathbf{X_{0}(i)}}$ represent the original data matrix and the reconstructed one at the ith experiment, respectively. For each SNR value and configuration, plot the NMSE vs. SNR curve. Discuss the obtained results.\n",
    "\n",
    "Note: For a given SNR (dB), the parameter α to be used in your experiment is determined from equation (1).\n",
    "\n",
    "<font color='red'>Solution:</font>"
   ]
  },
  {
   "cell_type": "code",
   "execution_count": 1,
   "metadata": {},
   "outputs": [],
   "source": [
    "def MLSKRF_3D_montecarlo(X_0,I,R,SNR_dB):\n",
    "    #X_0: The uncorrupted signal X = A ⊗ B ∈ C^{IJ×PQ}, where A ∈ C^{I×P} and B ∈ C^{J×Q}.\n",
    "    #(I,P,J,Q): Dimensions of A and B as mentioned above.\n",
    "    #SNR_dB: A vector of SNR values in decibels.\n",
    "    \n",
    "    #Obtaining the size of the array SNR_db\n",
    "    Size = len(SNR_dB)\n",
    "    #Creating an array to alocate the values of NMSE per run.\n",
    "    NMSE = np.zeros(Size)\n",
    "    \n",
    "    #This loop controls the number of runs in the Monte Carlo simulation.\n",
    "    runs = 1000\n",
    "    for k in tqdm(range(runs)):\n",
    "        \n",
    "        #Creating the noise array.\n",
    "        V = np.random.normal(0,1,[np.prod(I),R]) + 1j*np.random.normal(0,1,[np.prod(I),R])\n",
    "        \n",
    "        #This loop will run through the SNR_db vector.\n",
    "        for i in range(0,Size):\n",
    "            \n",
    "            #Converting the SNR that it is in dB to the linear scale.\n",
    "            SNR_Linear = 10**(SNR_dB[i]/10)\n",
    "            \n",
    "            #The process to obtain the value of alpha that will adjust the noise to the desirable value of SNR.\n",
    "            alphaV = ((np.linalg.norm(X_0,'fro'))**2)/SNR_Linear\n",
    "            alpha = np.sqrt(alphaV/((np.linalg.norm(V,'fro'))**2))\n",
    "            \n",
    "            #Adding the desirable noise to the original signal X_0.\n",
    "            X = X_0 + alpha*V\n",
    "            A = MLSKRF(X,I,R)\n",
    "            X_approx = tl.tenalg.khatri_rao((A))\n",
    "            \n",
    "            #Obtaining the NMSE for the k-th run of the MCS at the SNR_dB[i].\n",
    "            NMSE[i] = NMSE[i] + multilinearalgebra.normalized_mean_square_error(X,X_approx)\n",
    "    \n",
    "    #Obtaining the mean of all the runs.\n",
    "    NMSE = NMSE/runs\n",
    "    \n",
    "    return NMSE"
   ]
  },
  {
   "cell_type": "code",
   "execution_count": 10,
   "metadata": {},
   "outputs": [],
   "source": [
    "I1,I2,I3,R = 2,3,4,5\n",
    "I = [I1,I2,I3]\n",
    "SNR_dB = [0,5,10,15,20,25,30]\n",
    "A1 = np.random.randn(I1,R) + 1j*np.random.randn(I1,R)\n",
    "A2 = np.random.randn(I2,R) + 1j*np.random.randn(I2,R)\n",
    "A3 = np.random.randn(I3,R) + 1j*np.random.randn(I3,R)\n",
    "X_0 = tl.tenalg.khatri_rao((A1,A2,A3))"
   ]
  },
  {
   "cell_type": "code",
   "execution_count": 11,
   "metadata": {},
   "outputs": [
    {
     "name": "stderr",
     "output_type": "stream",
     "text": [
      "100%|██████████| 1000/1000 [00:11<00:00, 86.17it/s]\n"
     ]
    }
   ],
   "source": [
    "NMSE = MLSKRF_3D_montecarlo(X_0,I,R,SNR_dB)"
   ]
  },
  {
   "cell_type": "code",
   "execution_count": 12,
   "metadata": {},
   "outputs": [
    {
     "data": {
      "image/png": "[encoded data removed]",
      "text/plain": [
       "<Figure size 432x288 with 1 Axes>"
      ]
     },
     "metadata": {},
     "output_type": "display_data"
    }
   ],
   "source": [
    "plt.figure()\n",
    "plt.semilogy(SNR_dB,NMSE,'b', label = '$I_{1}$ = 2, $I_{2}$ = 3, $I_{3}$ = 4 and R = 4')\n",
    "plt.title('SNR x NMSE for MLSKRF')\n",
    "plt.xlabel('Signal to Noise Ratio(dB)')\n",
    "plt.ylabel('Normalized Mean Square Error')\n",
    "plt.legend()\n",
    "plt.show()"
   ]
  },
  {
   "cell_type": "markdown",
   "metadata": {},
   "source": [
    "## About this notebook\n",
    "\n",
    "**Author**: Kenneth B. dos A. Benício\n",
    "\n",
    "**Uptaded on**: 2020-04-30"
   ]
  }
 ],
 "metadata": {
  "kernelspec": {
   "display_name": "Python 3",
   "language": "python",
   "name": "python3"
  },
  "language_info": {
   "codemirror_mode": {
    "name": "ipython",
    "version": 3
   },
   "file_extension": ".py",
   "mimetype": "text/x-python",
   "name": "python",
   "nbconvert_exporter": "python",
   "pygments_lexer": "ipython3",
   "version": "3.7.6"
  }
 },
 "nbformat": 4,
 "nbformat_minor": 4
}

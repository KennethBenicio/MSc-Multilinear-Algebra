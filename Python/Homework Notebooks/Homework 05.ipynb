{
 "cells": [
  {
   "cell_type": "code",
   "execution_count": 3,
   "metadata": {},
   "outputs": [],
   "source": [
    "#Importing the usual libraries.\n",
    "import numpy as np\n",
    "import tensorly as tl\n",
    "import seaborn as sns\n",
    "import matplotlib.pyplot as plt\n",
    "\n",
    "from scipy.io import loadmat\n",
    "\n",
    "#Setting style options.\n",
    "sns.set()\n",
    "np.set_printoptions(1)"
   ]
  },
  {
   "cell_type": "markdown",
   "metadata": {},
   "source": [
    "The following packages are used in this notebook:\n",
    "\n",
    "- `numpy 1.18.1`\n",
    "- `tensorly 0.4.3`\n",
    "- `seaborn 0.10.0`"
   ]
  },
  {
   "cell_type": "markdown",
   "metadata": {},
   "source": [
    "# Problem 1 - Unfolding\n",
    "\n",
    "For a third-order tensor $\\mathbf{\\mathcal{X}} \\in \\mathbb{C}^{I \\times J \\times K}$ , using the concept of n-mode fibers, implement the function unfold according to the following prototype:\n",
    "\n",
    "\\begin{equation}\n",
    " [\\mathbf{\\mathcal{X}}]_{(n)} = unfold(\\mathbf{\\mathcal{X}},n) \n",
    "\\end{equation}\n",
    "\n",
    "Hint: Use the file “unfolding_folding.mat” to validate your function.\n",
    "\n",
    "<font color='red'>Solution:</font>"
   ]
  },
  {
   "cell_type": "code",
   "execution_count": 4,
   "metadata": {},
   "outputs": [],
   "source": [
    "def unfold(X,n):\n",
    "    \n",
    "    X = np.moveaxis(X,n,0)\n",
    "    X = X.reshape(X.shape[0],-1)\n",
    "    \n",
    "    return X"
   ]
  },
  {
   "cell_type": "code",
   "execution_count": 3,
   "metadata": {},
   "outputs": [
    {
     "name": "stdout",
     "output_type": "stream",
     "text": [
      "[[[ 1  4  7 10]\n",
      "  [ 2  5  8 11]\n",
      "  [ 3  6  9 12]]\n",
      "\n",
      " [[13 16 19 22]\n",
      "  [14 17 20 23]\n",
      "  [15 18 21 24]]]\n"
     ]
    }
   ],
   "source": [
    "X = np.moveaxis(np.arange(1,25).reshape([2,3,4]),1,2).reshape([2,3,4],order = 'F')\n",
    "print(X)"
   ]
  },
  {
   "cell_type": "code",
   "execution_count": 711,
   "metadata": {},
   "outputs": [
    {
     "name": "stdout",
     "output_type": "stream",
     "text": [
      "Tensor X unfolding mode-1:\n",
      "[[ 1  4  7 10 13 16 19 22]\n",
      " [ 2  5  8 11 14 17 20 23]\n",
      " [ 3  6  9 12 15 18 21 24]]\n",
      "Tensor X unfolding mode-2:\n",
      "[[ 1  2  3 13 14 15]\n",
      " [ 4  5  6 16 17 18]\n",
      " [ 7  8  9 19 20 21]\n",
      " [10 11 12 22 23 24]]\n",
      "Tensor X unfolding mode-3:\n",
      "[[ 1  4  7 10  2  5  8 11  3  6  9 12]\n",
      " [13 16 19 22 14 17 20 23 15 18 21 24]]\n"
     ]
    }
   ],
   "source": [
    "print('Tensor X unfolding mode-1:')\n",
    "print(unfold(X,1))\n",
    "print('Tensor X unfolding mode-2:')\n",
    "print(unfold(X,2))\n",
    "print('Tensor X unfolding mode-3:')\n",
    "print(unfold(X,0))"
   ]
  },
  {
   "cell_type": "markdown",
   "metadata": {},
   "source": [
    "# Test with unfolding_folding.mat"
   ]
  },
  {
   "cell_type": "code",
   "execution_count": 4,
   "metadata": {},
   "outputs": [
    {
     "name": "stdout",
     "output_type": "stream",
     "text": [
      "Tensor:\n",
      "[[[ -1.8   3.8   2.3   1. ]\n",
      "  [ -1.2   1.8   5.    3.6]\n",
      "  [  3.2  -6.2  -7.1  -4.4]]\n",
      "\n",
      " [[ -0.7   1.7   0.   -0.3]\n",
      "  [ -0.1   0.5  -1.2  -1.1]\n",
      "  [  1.   -2.5   1.    1.3]]\n",
      "\n",
      " [[  1.4  -3.2  -1.   -0.1]\n",
      "  [  0.6  -1.2  -1.1  -0.6]\n",
      "  [ -2.3   4.9   2.1   0.7]]\n",
      "\n",
      " [[ -1.2   2.2   3.3   2.2]\n",
      "  [ -1.5   1.6   9.9   7.6]\n",
      "  [  2.7  -4.  -12.7  -9.3]]\n",
      "\n",
      " [[ -2.2   4.5   3.7   2. ]\n",
      "  [ -1.8   2.5   9.6   7.1]\n",
      "  [  4.3  -7.6 -12.9  -8.7]]]\n",
      "X1:\n",
      "[[ -1.8   3.8   2.3   1.   -0.7   1.7   0.   -0.3   1.4  -3.2  -1.   -0.1\n",
      "   -1.2   2.2   3.3   2.2  -2.2   4.5   3.7   2. ]\n",
      " [ -1.2   1.8   5.    3.6  -0.1   0.5  -1.2  -1.1   0.6  -1.2  -1.1  -0.6\n",
      "   -1.5   1.6   9.9   7.6  -1.8   2.5   9.6   7.1]\n",
      " [  3.2  -6.2  -7.1  -4.4   1.   -2.5   1.    1.3  -2.3   4.9   2.1   0.7\n",
      "    2.7  -4.  -12.7  -9.3   4.3  -7.6 -12.9  -8.7]]\n",
      "X2:\n",
      "[[ -1.8  -1.2   3.2  -0.7  -0.1   1.    1.4   0.6  -2.3  -1.2  -1.5   2.7\n",
      "   -2.2  -1.8   4.3]\n",
      " [  3.8   1.8  -6.2   1.7   0.5  -2.5  -3.2  -1.2   4.9   2.2   1.6  -4.\n",
      "    4.5   2.5  -7.6]\n",
      " [  2.3   5.   -7.1   0.   -1.2   1.   -1.   -1.1   2.1   3.3   9.9 -12.7\n",
      "    3.7   9.6 -12.9]\n",
      " [  1.    3.6  -4.4  -0.3  -1.1   1.3  -0.1  -0.6   0.7   2.2   7.6  -9.3\n",
      "    2.    7.1  -8.7]]\n",
      "X3:\n",
      "[[ -1.8  -1.2   3.2   3.8   1.8  -6.2   2.3   5.   -7.1   1.    3.6  -4.4]\n",
      " [ -0.7  -0.1   1.    1.7   0.5  -2.5   0.   -1.2   1.   -0.3  -1.1   1.3]\n",
      " [  1.4   0.6  -2.3  -3.2  -1.2   4.9  -1.   -1.1   2.1  -0.1  -0.6   0.7]\n",
      " [ -1.2  -1.5   2.7   2.2   1.6  -4.    3.3   9.9 -12.7   2.2   7.6  -9.3]\n",
      " [ -2.2  -1.8   4.3   4.5   2.5  -7.6   3.7   9.6 -12.9   2.    7.1  -8.7]]\n"
     ]
    }
   ],
   "source": [
    "tenX = np.load('tenX.npy')\n",
    "print('Tensor:')\n",
    "print(tenX)\n",
    "\n",
    "X1 = np.load('X1.npy')\n",
    "print('X1:')\n",
    "print(X1)\n",
    "\n",
    "X2 = np.load('X2.npy')\n",
    "print('X2:')\n",
    "print(X2)\n",
    "\n",
    "X3 = np.load('X3.npy')\n",
    "print('X3:')\n",
    "print(X3)"
   ]
  },
  {
   "cell_type": "code",
   "execution_count": 5,
   "metadata": {},
   "outputs": [
    {
     "name": "stdout",
     "output_type": "stream",
     "text": [
      "unfolding_folding.mat 1-mode:\n",
      "[[ -1.8   3.8   2.3   1.   -0.7   1.7   0.   -0.3   1.4  -3.2  -1.   -0.1\n",
      "   -1.2   2.2   3.3   2.2  -2.2   4.5   3.7   2. ]\n",
      " [ -1.2   1.8   5.    3.6  -0.1   0.5  -1.2  -1.1   0.6  -1.2  -1.1  -0.6\n",
      "   -1.5   1.6   9.9   7.6  -1.8   2.5   9.6   7.1]\n",
      " [  3.2  -6.2  -7.1  -4.4   1.   -2.5   1.    1.3  -2.3   4.9   2.1   0.7\n",
      "    2.7  -4.  -12.7  -9.3   4.3  -7.6 -12.9  -8.7]]\n",
      "unfold function 1-mode:\n",
      "[[ -1.8   3.8   2.3   1.   -0.7   1.7   0.   -0.3   1.4  -3.2  -1.   -0.1\n",
      "   -1.2   2.2   3.3   2.2  -2.2   4.5   3.7   2. ]\n",
      " [ -1.2   1.8   5.    3.6  -0.1   0.5  -1.2  -1.1   0.6  -1.2  -1.1  -0.6\n",
      "   -1.5   1.6   9.9   7.6  -1.8   2.5   9.6   7.1]\n",
      " [  3.2  -6.2  -7.1  -4.4   1.   -2.5   1.    1.3  -2.3   4.9   2.1   0.7\n",
      "    2.7  -4.  -12.7  -9.3   4.3  -7.6 -12.9  -8.7]]\n",
      "unfolding_folding.mat 2-mode:\n",
      "[[ -1.8  -1.2   3.2  -0.7  -0.1   1.    1.4   0.6  -2.3  -1.2  -1.5   2.7\n",
      "   -2.2  -1.8   4.3]\n",
      " [  3.8   1.8  -6.2   1.7   0.5  -2.5  -3.2  -1.2   4.9   2.2   1.6  -4.\n",
      "    4.5   2.5  -7.6]\n",
      " [  2.3   5.   -7.1   0.   -1.2   1.   -1.   -1.1   2.1   3.3   9.9 -12.7\n",
      "    3.7   9.6 -12.9]\n",
      " [  1.    3.6  -4.4  -0.3  -1.1   1.3  -0.1  -0.6   0.7   2.2   7.6  -9.3\n",
      "    2.    7.1  -8.7]]\n",
      "unfold function 2-mode:\n",
      "[[ -1.8  -1.2   3.2  -0.7  -0.1   1.    1.4   0.6  -2.3  -1.2  -1.5   2.7\n",
      "   -2.2  -1.8   4.3]\n",
      " [  3.8   1.8  -6.2   1.7   0.5  -2.5  -3.2  -1.2   4.9   2.2   1.6  -4.\n",
      "    4.5   2.5  -7.6]\n",
      " [  2.3   5.   -7.1   0.   -1.2   1.   -1.   -1.1   2.1   3.3   9.9 -12.7\n",
      "    3.7   9.6 -12.9]\n",
      " [  1.    3.6  -4.4  -0.3  -1.1   1.3  -0.1  -0.6   0.7   2.2   7.6  -9.3\n",
      "    2.    7.1  -8.7]]\n",
      "unfolding_folding.mat 3-mode:\n",
      "[[ -1.8  -1.2   3.2   3.8   1.8  -6.2   2.3   5.   -7.1   1.    3.6  -4.4]\n",
      " [ -0.7  -0.1   1.    1.7   0.5  -2.5   0.   -1.2   1.   -0.3  -1.1   1.3]\n",
      " [  1.4   0.6  -2.3  -3.2  -1.2   4.9  -1.   -1.1   2.1  -0.1  -0.6   0.7]\n",
      " [ -1.2  -1.5   2.7   2.2   1.6  -4.    3.3   9.9 -12.7   2.2   7.6  -9.3]\n",
      " [ -2.2  -1.8   4.3   4.5   2.5  -7.6   3.7   9.6 -12.9   2.    7.1  -8.7]]\n",
      "unfold function 3-mode:\n",
      "[[ -1.8   3.8   2.3   1.   -1.2   1.8   5.    3.6   3.2  -6.2  -7.1  -4.4]\n",
      " [ -0.7   1.7   0.   -0.3  -0.1   0.5  -1.2  -1.1   1.   -2.5   1.    1.3]\n",
      " [  1.4  -3.2  -1.   -0.1   0.6  -1.2  -1.1  -0.6  -2.3   4.9   2.1   0.7]\n",
      " [ -1.2   2.2   3.3   2.2  -1.5   1.6   9.9   7.6   2.7  -4.  -12.7  -9.3]\n",
      " [ -2.2   4.5   3.7   2.   -1.8   2.5   9.6   7.1   4.3  -7.6 -12.9  -8.7]]\n"
     ]
    }
   ],
   "source": [
    "print('unfolding_folding.mat 1-mode:')\n",
    "print(X1)\n",
    "print('unfold function 1-mode:')\n",
    "print(unfold(tenX,1))\n",
    "print('unfolding_folding.mat 2-mode:')\n",
    "print(X2)\n",
    "print('unfold function 2-mode:')\n",
    "print(unfold(tenX,2))\n",
    "print('unfolding_folding.mat 3-mode:')\n",
    "print(X3)\n",
    "print('unfold function 3-mode:')\n",
    "print(unfold(tenX,0))"
   ]
  },
  {
   "cell_type": "markdown",
   "metadata": {},
   "source": [
    "# Problem 2 - Folding\n",
    "\n",
    "Implement the function fold that converts the unfolding $[\\mathbf{\\mathcal{X}}]_{(n)}$ obtained with $unfold (\\mathbf{\\mathcal{X}}, n)$ back to the tensor $\\mathbf{\\mathcal{X}} \\in \\mathbb{C}^{I \\times J \\times K}$ (i.e., a 3-d array in Matlab/Octave), according to the following prototype:\n",
    "\n",
    "\\begin{equation}\n",
    " \\mathbf{\\mathcal{X}} = fold([\\mathbf{\\mathcal{X}}]_{(n)},[I,J,K],n) \n",
    "\\end{equation}\n",
    "\n",
    "Hint: Use the file “unfolding_folding.mat” to validate your function.\n",
    "\n",
    "<font color='red'>Solution:</font>"
   ]
  },
  {
   "cell_type": "code",
   "execution_count": 5,
   "metadata": {},
   "outputs": [],
   "source": [
    "def fold(Xn,X_shape,n):\n",
    "    \n",
    "    #Transforming the shape of tensor tuple into a list for easy manipulation.\n",
    "    shape = list(X_shape)\n",
    "    #Extracting the external dimension that is presented in the unfolding tensor as the number of rows.\n",
    "    n_dimension = shape.pop(n)\n",
    "    #Inserting the previously dimension at the begining of the shape vector so this way we have a dinamic reshape\n",
    "    #that will change in accord with the unfolding mode.\n",
    "    shape.insert(0, n_dimension)\n",
    "    \n",
    "    #Reorganizing the unfolded tensor as a tensor.\n",
    "    X = Xn.reshape(shape)\n",
    "\n",
    "    #Moving back the axis that was changed at the unfolding function.\n",
    "    X = np.moveaxis(X,0,n)\n",
    "    \n",
    "    return X"
   ]
  },
  {
   "cell_type": "code",
   "execution_count": 7,
   "metadata": {},
   "outputs": [
    {
     "name": "stdout",
     "output_type": "stream",
     "text": [
      "[[[ 1  4  7 10]\n",
      "  [ 2  5  8 11]\n",
      "  [ 3  6  9 12]]\n",
      "\n",
      " [[13 16 19 22]\n",
      "  [14 17 20 23]\n",
      "  [15 18 21 24]]]\n"
     ]
    }
   ],
   "source": [
    "X = np.moveaxis(np.arange(1,25).reshape([2,3,4]),1,2).reshape([2,3,4],order = 'F')\n",
    "print(X)"
   ]
  },
  {
   "cell_type": "code",
   "execution_count": 8,
   "metadata": {},
   "outputs": [
    {
     "name": "stdout",
     "output_type": "stream",
     "text": [
      "Tensor X unfolding 2 - mode\n",
      "[[ 1  2  3 13 14 15]\n",
      " [ 4  5  6 16 17 18]\n",
      " [ 7  8  9 19 20 21]\n",
      " [10 11 12 22 23 24]]\n"
     ]
    }
   ],
   "source": [
    "n = 2\n",
    "Xn = unfold(X,n)\n",
    "print('Tensor X unfolding',n,'- mode')\n",
    "print(Xn)"
   ]
  },
  {
   "cell_type": "code",
   "execution_count": 9,
   "metadata": {},
   "outputs": [
    {
     "name": "stdout",
     "output_type": "stream",
     "text": [
      "Tensor X folding 2 - mode\n",
      "[[[ 1  4  7 10]\n",
      "  [ 2  5  8 11]\n",
      "  [ 3  6  9 12]]\n",
      "\n",
      " [[13 16 19 22]\n",
      "  [14 17 20 23]\n",
      "  [15 18 21 24]]]\n"
     ]
    }
   ],
   "source": [
    "Y = fold(Xn,X.shape,n)\n",
    "print('Tensor X folding',n,'- mode')\n",
    "print(Y)"
   ]
  },
  {
   "cell_type": "markdown",
   "metadata": {},
   "source": [
    "# Test with unfolding_folding.mat"
   ]
  },
  {
   "cell_type": "code",
   "execution_count": 10,
   "metadata": {},
   "outputs": [
    {
     "name": "stdout",
     "output_type": "stream",
     "text": [
      "Tensor X:\n",
      "[[[ -1.8   3.8   2.3   1. ]\n",
      "  [ -1.2   1.8   5.    3.6]\n",
      "  [  3.2  -6.2  -7.1  -4.4]]\n",
      "\n",
      " [[ -0.7   1.7   0.   -0.3]\n",
      "  [ -0.1   0.5  -1.2  -1.1]\n",
      "  [  1.   -2.5   1.    1.3]]\n",
      "\n",
      " [[  1.4  -3.2  -1.   -0.1]\n",
      "  [  0.6  -1.2  -1.1  -0.6]\n",
      "  [ -2.3   4.9   2.1   0.7]]\n",
      "\n",
      " [[ -1.2   2.2   3.3   2.2]\n",
      "  [ -1.5   1.6   9.9   7.6]\n",
      "  [  2.7  -4.  -12.7  -9.3]]\n",
      "\n",
      " [[ -2.2   4.5   3.7   2. ]\n",
      "  [ -1.8   2.5   9.6   7.1]\n",
      "  [  4.3  -7.6 -12.9  -8.7]]]\n"
     ]
    }
   ],
   "source": [
    "print('Tensor X:')\n",
    "print(tenX)"
   ]
  },
  {
   "cell_type": "code",
   "execution_count": 11,
   "metadata": {},
   "outputs": [
    {
     "name": "stdout",
     "output_type": "stream",
     "text": [
      "Tensor X unfolding 1-mode:\n",
      "[[ -1.8   3.8   2.3   1.   -1.2   1.8   5.    3.6   3.2  -6.2  -7.1  -4.4]\n",
      " [ -0.7   1.7   0.   -0.3  -0.1   0.5  -1.2  -1.1   1.   -2.5   1.    1.3]\n",
      " [  1.4  -3.2  -1.   -0.1   0.6  -1.2  -1.1  -0.6  -2.3   4.9   2.1   0.7]\n",
      " [ -1.2   2.2   3.3   2.2  -1.5   1.6   9.9   7.6   2.7  -4.  -12.7  -9.3]\n",
      " [ -2.2   4.5   3.7   2.   -1.8   2.5   9.6   7.1   4.3  -7.6 -12.9  -8.7]]\n"
     ]
    }
   ],
   "source": [
    "print('Tensor X unfolding 1-mode:')\n",
    "X1 = unfold(tenX,0)\n",
    "print(X1)"
   ]
  },
  {
   "cell_type": "code",
   "execution_count": 12,
   "metadata": {},
   "outputs": [
    {
     "name": "stdout",
     "output_type": "stream",
     "text": [
      "Folding of X1 according with 1-mode:\n",
      "[[[ -1.8   3.8   2.3   1. ]\n",
      "  [ -1.2   1.8   5.    3.6]\n",
      "  [  3.2  -6.2  -7.1  -4.4]]\n",
      "\n",
      " [[ -0.7   1.7   0.   -0.3]\n",
      "  [ -0.1   0.5  -1.2  -1.1]\n",
      "  [  1.   -2.5   1.    1.3]]\n",
      "\n",
      " [[  1.4  -3.2  -1.   -0.1]\n",
      "  [  0.6  -1.2  -1.1  -0.6]\n",
      "  [ -2.3   4.9   2.1   0.7]]\n",
      "\n",
      " [[ -1.2   2.2   3.3   2.2]\n",
      "  [ -1.5   1.6   9.9   7.6]\n",
      "  [  2.7  -4.  -12.7  -9.3]]\n",
      "\n",
      " [[ -2.2   4.5   3.7   2. ]\n",
      "  [ -1.8   2.5   9.6   7.1]\n",
      "  [  4.3  -7.6 -12.9  -8.7]]]\n"
     ]
    }
   ],
   "source": [
    "print('Folding of X1 according with 1-mode:')\n",
    "print(fold(X1,tenX.shape,0))"
   ]
  },
  {
   "cell_type": "markdown",
   "metadata": {},
   "source": [
    "# Problem 3 - Tensor x Matrix Product\n",
    "\n",
    "For given matrices $A \\in \\mathbb{C}^{P \\times I}$, $B \\in \\mathbb{C}^{Q \\times J}$ and $C \\in \\mathbb{C}^{R \\times K}$ and tensor $\\mathbf{\\mathcal{X}} \\in \\mathbb{C}^{I \\times J \\times K}$ , calculate the tensor $\\mathbf{\\mathcal{Y}} \\in \\mathbb{C}^{P \\times Q \\times R}$ via the following multilinear transformation:\n",
    "\n",
    "\\begin{equation}\n",
    "    \\mathbf{\\mathcal{Y}} = \\mathbf{\\mathcal{X}} \\times_{1} \\mathbf{A} \\times_{2} \\mathbf{B} \\times_{3} \\mathbf{C}\n",
    "\\end{equation}\n",
    "\n",
    "Hint: Use the file “multilinear_product.mat” to validate your result.\n",
    "\n",
    "<font color='red'>Solution:</font>"
   ]
  },
  {
   "cell_type": "code",
   "execution_count": 6,
   "metadata": {},
   "outputs": [],
   "source": [
    "def ten_mat_prod(tensor,matrix,mode):\n",
    "    \n",
    "    shape = list(tensor.shape)\n",
    "    shape.pop(mode)\n",
    "    shape.insert(mode,matrix.shape[0])\n",
    "    \n",
    "    tensor = matrix@unfold(tensor,mode)\n",
    "    tensor = fold(tensor,shape,mode)\n",
    "    \n",
    "    return tensor"
   ]
  },
  {
   "cell_type": "code",
   "execution_count": 7,
   "metadata": {},
   "outputs": [],
   "source": [
    "def ten_mat_multiprod(tensor,list_of_matrices):\n",
    "    \n",
    "    shape = list(tensor.shape)\n",
    "    \n",
    "    for i in range(0,list_of_matrices.shape[0]):\n",
    "        \n",
    "        tensor = list_of_matrices[i,]@(unfold(tensor,i))\n",
    "        Z = list_of_matrices[i]\n",
    "        shape.pop(i)\n",
    "        shape.insert(i,Z.shape[0])\n",
    "        tensor = fold(tensor,shape,i)\n",
    "        shape = list(tensor.shape)\n",
    "        \n",
    "    return tensor"
   ]
  },
  {
   "cell_type": "code",
   "execution_count": 15,
   "metadata": {},
   "outputs": [
    {
     "name": "stdout",
     "output_type": "stream",
     "text": [
      "(3,)\n"
     ]
    }
   ],
   "source": [
    "A = np.random.randn(4,3) + 1j*np.random.randn(4,3)\n",
    "B = np.random.randn(5,4) + 1j*np.random.randn(5,4)\n",
    "C = np.random.randn(3,2) + 1j*np.random.randn(3,2)\n",
    "D = np.array([A,B,C])\n",
    "print(D.shape)\n",
    "X = np.random.randn(3,4,2)"
   ]
  },
  {
   "cell_type": "code",
   "execution_count": 16,
   "metadata": {},
   "outputs": [
    {
     "data": {
      "text/plain": [
       "array([[[-2.7e+00 +7.1j,  3.5e+00 -9.7j, -6.3e+00-10.2j],\n",
       "        [-3.5e+00 -0.4j,  2.8e+00 -0.1j,  2.3e+00 -4.j ],\n",
       "        [-9.1e-01 -6.5j,  2.3e+00+11.4j,  1.0e+01 +6.9j],\n",
       "        [-6.1e+00 +4.5j,  5.1e+00 -0.3j, -8.0e-01 -6.8j],\n",
       "        [ 1.2e+01-10.7j, -6.8e+00 +2.2j,  6.1e+00+13.6j]],\n",
       "\n",
       "       [[-8.2e+00 -5.5j, -6.2e+00 -4.5j, -9.8e-01-10.2j],\n",
       "        [-2.4e+00 -5.2j, -1.1e+00 +0.8j,  4.1e+00 -1.7j],\n",
       "        [ 1.5e+01 +3.9j,  9.6e+00 -2.6j,  4.0e+00+10.1j],\n",
       "        [-1.1e+01 -3.j , -2.3e+00+10.1j,  2.6e+00 -2.2j],\n",
       "        [ 1.8e+01 -0.3j,  5.5e+00 -6.9j,  4.2e+00+10.3j]],\n",
       "\n",
       "       [[-3.1e+00 -9.5j, -2.3e+00 -8.2j,  5.2e+00 -9.3j],\n",
       "        [ 1.3e+00 -3.2j,  1.9e+00 -1.8j,  4.2e+00 -0.7j],\n",
       "        [ 1.4e+01+10.j ,  4.0e+00 +2.1j, -5.1e+00+14.1j],\n",
       "        [-1.3e+01 -4.2j,  2.5e+00 +8.j ,  6.7e+00 -7.1j],\n",
       "        [ 1.7e+01+10.5j,  5.7e+00 -1.8j, -4.8e+00+14.2j]],\n",
       "\n",
       "       [[-6.3e+00 -1.5j,  6.9e+00 +0.j ,  6.3e+00 -7.5j],\n",
       "        [ 3.0e-04 -4.5j, -1.4e+00 +2.2j,  3.6e+00 +1.7j],\n",
       "        [ 3.5e+00 -0.6j, -4.1e+00 +6.j , -1.1e+00 +8.6j],\n",
       "        [-1.5e+00 -5.4j, -4.3e+00 +1.9j,  2.1e+00 +0.6j],\n",
       "        [ 1.1e+01 +6.5j, -4.5e-01 -4.4j, -6.8e+00 +7.2j]]])"
      ]
     },
     "execution_count": 16,
     "metadata": {},
     "output_type": "execute_result"
    }
   ],
   "source": [
    "ten_mat_multiprod(X,D)"
   ]
  },
  {
   "cell_type": "code",
   "execution_count": 17,
   "metadata": {},
   "outputs": [
    {
     "data": {
      "text/plain": [
       "array([[[-2.7e+00 +7.1j,  3.5e+00 -9.7j, -6.3e+00-10.2j],\n",
       "        [-3.5e+00 -0.4j,  2.8e+00 -0.1j,  2.3e+00 -4.j ],\n",
       "        [-9.1e-01 -6.5j,  2.3e+00+11.4j,  1.0e+01 +6.9j],\n",
       "        [-6.1e+00 +4.5j,  5.1e+00 -0.3j, -8.0e-01 -6.8j],\n",
       "        [ 1.2e+01-10.7j, -6.8e+00 +2.2j,  6.1e+00+13.6j]],\n",
       "\n",
       "       [[-8.2e+00 -5.5j, -6.2e+00 -4.5j, -9.8e-01-10.2j],\n",
       "        [-2.4e+00 -5.2j, -1.1e+00 +0.8j,  4.1e+00 -1.7j],\n",
       "        [ 1.5e+01 +3.9j,  9.6e+00 -2.6j,  4.0e+00+10.1j],\n",
       "        [-1.1e+01 -3.j , -2.3e+00+10.1j,  2.6e+00 -2.2j],\n",
       "        [ 1.8e+01 -0.3j,  5.5e+00 -6.9j,  4.2e+00+10.3j]],\n",
       "\n",
       "       [[-3.1e+00 -9.5j, -2.3e+00 -8.2j,  5.2e+00 -9.3j],\n",
       "        [ 1.3e+00 -3.2j,  1.9e+00 -1.8j,  4.2e+00 -0.7j],\n",
       "        [ 1.4e+01+10.j ,  4.0e+00 +2.1j, -5.1e+00+14.1j],\n",
       "        [-1.3e+01 -4.2j,  2.5e+00 +8.j ,  6.7e+00 -7.1j],\n",
       "        [ 1.7e+01+10.5j,  5.7e+00 -1.8j, -4.8e+00+14.2j]],\n",
       "\n",
       "       [[-6.3e+00 -1.5j,  6.9e+00 +0.j ,  6.3e+00 -7.5j],\n",
       "        [ 3.0e-04 -4.5j, -1.4e+00 +2.2j,  3.6e+00 +1.7j],\n",
       "        [ 3.5e+00 -0.6j, -4.1e+00 +6.j , -1.1e+00 +8.6j],\n",
       "        [-1.5e+00 -5.4j, -4.3e+00 +1.9j,  2.1e+00 +0.6j],\n",
       "        [ 1.1e+01 +6.5j, -4.5e-01 -4.4j, -6.8e+00 +7.2j]]])"
      ]
     },
     "execution_count": 17,
     "metadata": {},
     "output_type": "execute_result"
    }
   ],
   "source": [
    "tl.tenalg.multi_mode_dot(X,[A,B,C])"
   ]
  },
  {
   "cell_type": "markdown",
   "metadata": {},
   "source": [
    "# Test with multilinear_product.mat"
   ]
  },
  {
   "cell_type": "code",
   "execution_count": 18,
   "metadata": {},
   "outputs": [
    {
     "name": "stdout",
     "output_type": "stream",
     "text": [
      "A:\n",
      "[[ 1.8  0.9  0.6]\n",
      " [-0.4  1.1 -1.5]\n",
      " [-1.5  0.2 -0.6]\n",
      " [-0.6  0.3 -1.8]]\n",
      "B:\n",
      "[[-0.4 -2.2  0.8  0.1]\n",
      " [ 0.9  1.7  0.4 -0.8]\n",
      " [ 0.7  1.3  0.7  1.4]\n",
      " [ 2.3 -0.6 -0.1  0. ]\n",
      " [ 0.2  0.2 -0.   0.7]]\n",
      "C:\n",
      "[[-0.9 -0.3]\n",
      " [-1.1  1.2]\n",
      " [-0.1  0.6]]\n",
      "Tensor X:\n",
      "[[[ 2.7 -1.1  0.7  1.5]\n",
      "  [-1.1  1.  -0.3 -2.3]\n",
      "  [ 0.6  0.3  0.2 -1.6]]\n",
      "\n",
      " [[ 0.4 -1.5 -0.7 -0.9]\n",
      "  [-0.7 -0.9 -0.9  1.3]\n",
      "  [-0.3 -0.4 -0.4 -1. ]]]\n",
      "Tensor Y:\n",
      "[[[-2.1e+00 -1.3e+00  3.2e-01 -9.0e+00  2.6e-01]\n",
      "  [ 1.3e+00  1.6e+00  8.3e-01  6.6e+00 -8.0e-03]\n",
      "  [ 2.9e+00  1.6e-01  2.0e+00  9.9e+00  7.4e-01]\n",
      "  [ 5.5e-01  3.0e+00 -1.4e+00  6.1e+00 -1.1e+00]]\n",
      "\n",
      " [[ 6.9e+00 -1.2e+01 -1.2e+01 -7.7e+00 -2.0e+00]\n",
      "  [ 1.7e+00 -2.0e+00  7.9e+00  6.7e+00  3.3e+00]\n",
      "  [-1.7e+00  3.3e+00  1.2e+01  8.5e+00  3.7e+00]\n",
      "  [-2.4e+00  4.8e+00  8.1e+00  6.7e+00  2.0e+00]]\n",
      "\n",
      " [[ 3.8e+00 -4.3e+00 -5.1e+00  5.5e-01 -9.3e-01]\n",
      "  [ 1.6e-01 -1.5e+00  2.9e+00  4.4e-02  1.4e+00]\n",
      "  [-1.9e+00  1.3e+00  4.3e+00 -6.3e-01  1.3e+00]\n",
      "  [-1.3e+00  7.3e-01  4.0e+00  2.2e-01  1.3e+00]]]\n"
     ]
    }
   ],
   "source": [
    "A = np.load('A.npy')\n",
    "print('A:')\n",
    "print(A)\n",
    "\n",
    "B = np.load('B.npy')\n",
    "print('B:')\n",
    "print(B)\n",
    "\n",
    "C = np.load('C.npy')\n",
    "print('C:')\n",
    "print(C)\n",
    "\n",
    "tenX = np.load('mtenX.npy')\n",
    "print('Tensor X:')\n",
    "print(tenX)\n",
    "\n",
    "tenY = np.load('mtenY.npy')\n",
    "print('Tensor Y:')\n",
    "print(tenY)"
   ]
  },
  {
   "cell_type": "code",
   "execution_count": 19,
   "metadata": {},
   "outputs": [
    {
     "name": "stdout",
     "output_type": "stream",
     "text": [
      "ten_mat_product function:\n",
      "[[[-2.1e+00 -1.3e+00  3.2e-01 -9.0e+00  2.6e-01]\n",
      "  [ 1.3e+00  1.6e+00  8.3e-01  6.6e+00 -8.0e-03]\n",
      "  [ 2.9e+00  1.6e-01  2.0e+00  9.9e+00  7.4e-01]\n",
      "  [ 5.5e-01  3.0e+00 -1.4e+00  6.1e+00 -1.1e+00]]\n",
      "\n",
      " [[ 6.9e+00 -1.2e+01 -1.2e+01 -7.7e+00 -2.0e+00]\n",
      "  [ 1.7e+00 -2.0e+00  7.9e+00  6.7e+00  3.3e+00]\n",
      "  [-1.7e+00  3.3e+00  1.2e+01  8.5e+00  3.7e+00]\n",
      "  [-2.4e+00  4.8e+00  8.1e+00  6.7e+00  2.0e+00]]\n",
      "\n",
      " [[ 3.8e+00 -4.3e+00 -5.1e+00  5.5e-01 -9.3e-01]\n",
      "  [ 1.6e-01 -1.5e+00  2.9e+00  4.4e-02  1.4e+00]\n",
      "  [-1.9e+00  1.3e+00  4.3e+00 -6.3e-01  1.3e+00]\n",
      "  [-1.3e+00  7.3e-01  4.0e+00  2.2e-01  1.3e+00]]]\n"
     ]
    }
   ],
   "source": [
    "print('ten_mat_product function:')\n",
    "print(ten_mat_multiprod(tenX,np.array([C,A,B])))"
   ]
  },
  {
   "cell_type": "code",
   "execution_count": 20,
   "metadata": {},
   "outputs": [
    {
     "data": {
      "text/plain": [
       "array([[[-2.1e+00, -1.3e+00,  3.2e-01, -9.0e+00,  2.6e-01],\n",
       "        [ 1.3e+00,  1.6e+00,  8.3e-01,  6.6e+00, -8.0e-03],\n",
       "        [ 2.9e+00,  1.6e-01,  2.0e+00,  9.9e+00,  7.4e-01],\n",
       "        [ 5.5e-01,  3.0e+00, -1.4e+00,  6.1e+00, -1.1e+00]],\n",
       "\n",
       "       [[ 6.9e+00, -1.2e+01, -1.2e+01, -7.7e+00, -2.0e+00],\n",
       "        [ 1.7e+00, -2.0e+00,  7.9e+00,  6.7e+00,  3.3e+00],\n",
       "        [-1.7e+00,  3.3e+00,  1.2e+01,  8.5e+00,  3.7e+00],\n",
       "        [-2.4e+00,  4.8e+00,  8.1e+00,  6.7e+00,  2.0e+00]],\n",
       "\n",
       "       [[ 3.8e+00, -4.3e+00, -5.1e+00,  5.5e-01, -9.3e-01],\n",
       "        [ 1.6e-01, -1.5e+00,  2.9e+00,  4.4e-02,  1.4e+00],\n",
       "        [-1.9e+00,  1.3e+00,  4.3e+00, -6.3e-01,  1.3e+00],\n",
       "        [-1.3e+00,  7.3e-01,  4.0e+00,  2.2e-01,  1.3e+00]]])"
      ]
     },
     "execution_count": 20,
     "metadata": {},
     "output_type": "execute_result"
    }
   ],
   "source": [
    "tl.tenalg.multi_mode_dot(tenX,[C,A,B])"
   ]
  },
  {
   "cell_type": "markdown",
   "metadata": {},
   "source": [
    "# Test with an example presented in Tensor Decompositions and Applications"
   ]
  },
  {
   "cell_type": "code",
   "execution_count": 8,
   "metadata": {},
   "outputs": [
    {
     "name": "stdout",
     "output_type": "stream",
     "text": [
      "Tensor X:\n",
      "[[[ 1  4  7 10]\n",
      "  [ 2  5  8 11]\n",
      "  [ 3  6  9 12]]\n",
      "\n",
      " [[13 16 19 22]\n",
      "  [14 17 20 23]\n",
      "  [15 18 21 24]]]\n",
      "(2, 3, 4)\n",
      "Matrix U:\n",
      "[[1 3 5]\n",
      " [2 4 6]]\n"
     ]
    }
   ],
   "source": [
    "print('Tensor X:')\n",
    "X = np.moveaxis(np.arange(1,25).reshape([2,3,4]),1,2).reshape([2,3,4],order = 'F')\n",
    "print(X)\n",
    "print(X.shape)\n",
    "\n",
    "print('Matrix U:')\n",
    "U = np.arange(1,7).reshape([2,3],order = 'F')\n",
    "print(U)\n",
    "\n",
    "#The mode must match the number of columns in the matrix."
   ]
  },
  {
   "cell_type": "code",
   "execution_count": 9,
   "metadata": {},
   "outputs": [
    {
     "name": "stdout",
     "output_type": "stream",
     "text": [
      "[[[ 22  49  76 103]\n",
      "  [ 28  64 100 136]]\n",
      "\n",
      " [[130 157 184 211]\n",
      "  [172 208 244 280]]]\n"
     ]
    }
   ],
   "source": [
    "Y = ten_mat_prod(X,U,1)\n",
    "print(Y)"
   ]
  },
  {
   "cell_type": "markdown",
   "metadata": {},
   "source": [
    "## About this notebook\n",
    "\n",
    "**Author**: Kenneth B. dos A. Benício\n",
    "\n",
    "**Uptaded on**: 2020-03-30"
   ]
  }
 ],
 "metadata": {
  "kernelspec": {
   "display_name": "Python 3",
   "language": "python",
   "name": "python3"
  },
  "language_info": {
   "codemirror_mode": {
    "name": "ipython",
    "version": 3
   },
   "file_extension": ".py",
   "mimetype": "text/x-python",
   "name": "python",
   "nbconvert_exporter": "python",
   "pygments_lexer": "ipython3",
   "version": "3.7.6"
  }
 },
 "nbformat": 4,
 "nbformat_minor": 4
}

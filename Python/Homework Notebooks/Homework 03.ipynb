{
 "cells": [
  {
   "cell_type": "code",
   "execution_count": 1,
   "metadata": {},
   "outputs": [
    {
     "name": "stderr",
     "output_type": "stream",
     "text": [
      "Using numpy backend.\n"
     ]
    },
    {
     "data": {
      "text/html": [
       "<style>\n",
       ".output {\n",
       "    align-items: center;\n",
       "}\n",
       "\n",
       "div.output_area {\n",
       "    width: 55%;\n",
       "}\n",
       "\n",
       "</style>"
      ],
      "text/plain": [
       "<IPython.core.display.HTML object>"
      ]
     },
     "execution_count": 1,
     "metadata": {},
     "output_type": "execute_result"
    }
   ],
   "source": [
    "#Importing the usual libraries.\n",
    "import numpy as np\n",
    "import tensorly as tl\n",
    "import seaborn as sns\n",
    "import matplotlib.pyplot as plt\n",
    "\n",
    "from scipy.io import loadmat\n",
    "\n",
    "#Setting style options.\n",
    "sns.set()\n",
    "np.set_printoptions(1)\n",
    "from IPython.display import display, HTML\n",
    "\n",
    "CSS = \"\"\"\n",
    ".output {\n",
    "    align-items: center;\n",
    "}\n",
    "\n",
    "div.output_area {\n",
    "    width: 55%;\n",
    "}\n",
    "\n",
    "\"\"\"\n",
    "\n",
    "HTML('<style>{}</style>'.format(CSS))"
   ]
  },
  {
   "cell_type": "markdown",
   "metadata": {},
   "source": [
    "The following packages are used in this notebook:\n",
    "\n",
    "- `numpy 1.18.1`\n",
    "- `tensorly 0.4.3`\n",
    "- `seaborn 0.10.0`"
   ]
  },
  {
   "cell_type": "markdown",
   "metadata": {},
   "source": [
    "# Least-Squares Khatri-Rao Factorization (LSKRF)\n",
    "\n",
    "Generate $\\mathbf{X} = \\mathbf{A}\\diamond \\mathbf{B} \\in \\mathbb{C}^{24 \\times 2}$, for randomly chosen $\\mathbf{A} \\in \\mathbb{C}^{4 \\times 2}$ and $\\mathbf{B} \\in \\mathbb{C}^{6 \\times 2}$. Then, implement the Least-Squares Khatri-Rao Factorization (LSKRF) algorithm that estimate $\\mathbf{A}$ and $\\mathbf{B}$ by solving the following problem:\n",
    "\n",
    "\\begin{equation}\n",
    "    (\\hat{\\mathbf{A}},\\hat{\\mathbf{B}}) = \\underset{\\mathbf{A},\\mathbf{B}}{min} ||\\mathbf{X} - \\mathbf{A}\\diamond \\mathbf{B}|| ^{2}_{F}\n",
    "\\end{equation}\n",
    "\n",
    "Compare the estimated matrices $\\hat{\\mathbf{A}}$ and $\\hat{\\mathbf{B}}$ with the original ones. What can you conclude? Explain the results.\n",
    "\n",
    "Hint: Use the file “krf_matrix.mat” to validate your result.\n",
    "\n",
    "<font color='red'>Solution:</font>"
   ]
  },
  {
   "cell_type": "code",
   "execution_count": 2,
   "metadata": {},
   "outputs": [],
   "source": [
    "#In this cell a function for LSKRF will be created.\n",
    "def LSKRF(X,I,J,R):\n",
    "    #X: A matrix created by the relation X = A ⋄ B ∈ C^{IJ×R}, where A ∈ C^{I×R} and B ∈ C^{J×R}.\n",
    "    #(I,J,R): Dimensions of A and B as mentioned above.\n",
    "    \n",
    "    #Creating a matrix to alocate the values of stimated X.\n",
    "    X_hat = np.zeros([I*J,R]) + 1j*np.zeros([I*J,R])\n",
    "    \n",
    "    for i in range(0,R):\n",
    "        #Each column of X will be rearranged into a matrix Xp ∈ ℂ^{J×I}. \n",
    "        X_p = (X[:,i]).reshape(J,I,order = 'F')\n",
    "        \n",
    "        #In this line the SVD of the new matrix will be calculated.\n",
    "        [U_p,S_p,V_p] = np.linalg.svd(X_p)\n",
    "        \n",
    "        #Now the stimations of the a_hat and b_hat i-th columns will be made.\n",
    "        a_hat = np.sqrt(S_p[0])*((V_p[0,:]))\n",
    "        b_hat = np.sqrt(S_p[0])*U_p[:,0]\n",
    "        \n",
    "        #Finally, the kronecker between the stimations of the i-th columns of a_hat and b_hat\n",
    "        #will be calculated and alocated to the respective column of the stimation of X.\n",
    "        X_hat[:,i] = (np.outer(b_hat,a_hat)).reshape(I*J,order = 'F')\n",
    "    \n",
    "    #This line will calculate the Normalized Mean Square Error between the stimation X_hat and the know signal X.\n",
    "    nmse  = (np.linalg.norm(X - X_hat))**2/(np.linalg.norm(X))**2\n",
    "    \n",
    "    return X_hat,nmse"
   ]
  },
  {
   "cell_type": "markdown",
   "metadata": {},
   "source": [
    "# Test with (I,J,R) = (4,6,2)"
   ]
  },
  {
   "cell_type": "code",
   "execution_count": 3,
   "metadata": {},
   "outputs": [
    {
     "name": "stdout",
     "output_type": "stream",
     "text": [
      "Signal X:\n",
      "[[-4.9-2.6j -5.7-0.7j -2.3-1.1j -1.9+0.8j -1.9-1.5j  2.9-0.3j  1.8-2.j\n",
      "   1. -2.6j  0.8-0.9j -0.1-1.j   0.9-0.7j -0.2+1.4j  2.8-2.j   2. -3.j\n",
      "   1.3-0.9j  0.1-1.3j  1.4-0.6j -0.6+1.7j  0.6+3.9j  2. +3.5j  0.3+1.8j\n",
      "   1.2+0.8j -0. +1.7j -1.4-1.5j]\n",
      " [ 0.2-0.5j -0.1+1.j  -0.5-0.2j  0. -0.4j  0.3-0.4j -0.6+0.7j -0.6-0.2j\n",
      "   1.1-0.j  -0.1+0.6j -0.4+0.j  -0.5-0.2j  0.9+0.6j -0.3+0.2j  0.4-0.6j\n",
      "   0.2+0.3j -0.1+0.2j -0.3+0.2j  0.6-0.2j -0.7+0.3j  1. -0.9j  0.3+0.6j\n",
      "  -0.3+0.4j -0.6+0.2j  1.3-0.2j]]\n"
     ]
    }
   ],
   "source": [
    "I,J,R = 4,6,2\n",
    "A = np.random.randn(I,R) + 1j*np.random.randn(I,R)\n",
    "B = np.random.randn(J,R) + 1j*np.random.randn(J,R)\n",
    "X = tl.tenalg.khatri_rao([A,B])\n",
    "print('Signal X:')\n",
    "print(X.T)"
   ]
  },
  {
   "cell_type": "code",
   "execution_count": 4,
   "metadata": {},
   "outputs": [
    {
     "name": "stdout",
     "output_type": "stream",
     "text": [
      "Normalized Mean Square Error:\n",
      "5.074510720410646e-32\n",
      "Stimation of X:\n",
      "[[-4.9-2.6j -5.7-0.7j -2.3-1.1j -1.9+0.8j -1.9-1.5j  2.9-0.3j  1.8-2.j\n",
      "   1. -2.6j  0.8-0.9j -0.1-1.j   0.9-0.7j -0.2+1.4j  2.8-2.j   2. -3.j\n",
      "   1.3-0.9j  0.1-1.3j  1.4-0.6j -0.6+1.7j  0.6+3.9j  2. +3.5j  0.3+1.8j\n",
      "   1.2+0.8j -0. +1.7j -1.4-1.5j]\n",
      " [ 0.2-0.5j -0.1+1.j  -0.5-0.2j  0. -0.4j  0.3-0.4j -0.6+0.7j -0.6-0.2j\n",
      "   1.1-0.j  -0.1+0.6j -0.4+0.j  -0.5-0.2j  0.9+0.6j -0.3+0.2j  0.4-0.6j\n",
      "   0.2+0.3j -0.1+0.2j -0.3+0.2j  0.6-0.2j -0.7+0.3j  1. -0.9j  0.3+0.6j\n",
      "  -0.3+0.4j -0.6+0.2j  1.3-0.2j]]\n"
     ]
    }
   ],
   "source": [
    "[X_hat,nmse] = LSKRF(X,I,J,R)\n",
    "print('Normalized Mean Square Error:')\n",
    "print(nmse)\n",
    "print('Stimation of X:')\n",
    "print(X_hat.T)"
   ]
  },
  {
   "cell_type": "markdown",
   "metadata": {},
   "source": [
    "# Test with krf_matrix.mat"
   ]
  },
  {
   "cell_type": "code",
   "execution_count": 5,
   "metadata": {},
   "outputs": [],
   "source": [
    "#Is possible to load the .mat directly in the workspace, but some pre-processing will be needed to correctly since the received .mat file\n",
    "#is based on fortran language.\n",
    "#So to make things easier for now A and B presented in the .mat file are redefined bellow as a python array.\n",
    "\n",
    "A = np.array([[ 0.636, -1.396,  0.78 ,  0.446],\n",
    "              [-1.954,  0.014,  1.191, -1.3  ],\n",
    "              [-1.016, -0.669, -0.022,  0.958],\n",
    "              [-0.241, -0.195, -0.693, -1.57 ],\n",
    "              [-0.593, -0.24 ,  0.078, -2.054]])\n",
    "\n",
    "B = np.array([[-0.693,  0.273, -0.241,  0.309],\n",
    "              [-0.267, -0.182,  2.011,  0.986],\n",
    "              [ 0.112, -0.122,  0.036, -0.759],\n",
    "              [ 2.884, -0.604, -0.173, -0.675]])\n",
    "\n",
    "#Construction of the X signal.\n",
    "X = tl.tenalg.khatri_rao([A,B])"
   ]
  },
  {
   "cell_type": "code",
   "execution_count": 6,
   "metadata": {},
   "outputs": [],
   "source": [
    "[X_hat,nmse] = LSKRF(X,5,4,4)"
   ]
  },
  {
   "cell_type": "code",
   "execution_count": 7,
   "metadata": {},
   "outputs": [
    {
     "name": "stdout",
     "output_type": "stream",
     "text": [
      "Normalized Mean Square Error::\n",
      "5.977646358091872e-32\n",
      "Know Signal:\n",
      "[[-4.4e-01 -3.8e-01 -1.9e-01  1.4e-01]\n",
      " [-1.7e-01  2.5e-01  1.6e+00  4.4e-01]\n",
      " [ 7.1e-02  1.7e-01  2.8e-02 -3.4e-01]\n",
      " [ 1.8e+00  8.4e-01 -1.3e-01 -3.0e-01]\n",
      " [ 1.4e+00  3.8e-03 -2.9e-01 -4.0e-01]\n",
      " [ 5.2e-01 -2.5e-03  2.4e+00 -1.3e+00]\n",
      " [-2.2e-01 -1.7e-03  4.3e-02  9.9e-01]\n",
      " [-5.6e+00 -8.5e-03 -2.1e-01  8.8e-01]\n",
      " [ 7.0e-01 -1.8e-01  5.3e-03  3.0e-01]\n",
      " [ 2.7e-01  1.2e-01 -4.4e-02  9.4e-01]\n",
      " [-1.1e-01  8.2e-02 -7.9e-04 -7.3e-01]\n",
      " [-2.9e+00  4.0e-01  3.8e-03 -6.5e-01]\n",
      " [ 1.7e-01 -5.3e-02  1.7e-01 -4.9e-01]\n",
      " [ 6.4e-02  3.5e-02 -1.4e+00 -1.5e+00]\n",
      " [-2.7e-02  2.4e-02 -2.5e-02  1.2e+00]\n",
      " [-7.0e-01  1.2e-01  1.2e-01  1.1e+00]\n",
      " [ 4.1e-01 -6.6e-02 -1.9e-02 -6.3e-01]\n",
      " [ 1.6e-01  4.4e-02  1.6e-01 -2.0e+00]\n",
      " [-6.6e-02  2.9e-02  2.8e-03  1.6e+00]\n",
      " [-1.7e+00  1.4e-01 -1.3e-02  1.4e+00]]\n",
      "Stimated Signal:\n",
      "[[-4.4e-01+0.j -3.8e-01+0.j -1.9e-01+0.j  1.4e-01+0.j]\n",
      " [-1.7e-01+0.j  2.5e-01+0.j  1.6e+00+0.j  4.4e-01+0.j]\n",
      " [ 7.1e-02+0.j  1.7e-01+0.j  2.8e-02+0.j -3.4e-01+0.j]\n",
      " [ 1.8e+00+0.j  8.4e-01+0.j -1.3e-01+0.j -3.0e-01+0.j]\n",
      " [ 1.4e+00+0.j  3.8e-03+0.j -2.9e-01+0.j -4.0e-01+0.j]\n",
      " [ 5.2e-01+0.j -2.5e-03+0.j  2.4e+00+0.j -1.3e+00+0.j]\n",
      " [-2.2e-01+0.j -1.7e-03+0.j  4.3e-02+0.j  9.9e-01+0.j]\n",
      " [-5.6e+00+0.j -8.5e-03+0.j -2.1e-01+0.j  8.8e-01+0.j]\n",
      " [ 7.0e-01+0.j -1.8e-01+0.j  5.3e-03+0.j  3.0e-01+0.j]\n",
      " [ 2.7e-01+0.j  1.2e-01+0.j -4.4e-02+0.j  9.4e-01+0.j]\n",
      " [-1.1e-01+0.j  8.2e-02+0.j -7.9e-04+0.j -7.3e-01+0.j]\n",
      " [-2.9e+00+0.j  4.0e-01+0.j  3.8e-03+0.j -6.5e-01+0.j]\n",
      " [ 1.7e-01+0.j -5.3e-02+0.j  1.7e-01+0.j -4.9e-01+0.j]\n",
      " [ 6.4e-02+0.j  3.5e-02+0.j -1.4e+00+0.j -1.5e+00+0.j]\n",
      " [-2.7e-02+0.j  2.4e-02+0.j -2.5e-02+0.j  1.2e+00+0.j]\n",
      " [-7.0e-01+0.j  1.2e-01+0.j  1.2e-01+0.j  1.1e+00+0.j]\n",
      " [ 4.1e-01+0.j -6.6e-02+0.j -1.9e-02+0.j -6.3e-01+0.j]\n",
      " [ 1.6e-01+0.j  4.4e-02+0.j  1.6e-01+0.j -2.0e+00+0.j]\n",
      " [-6.6e-02+0.j  2.9e-02+0.j  2.8e-03+0.j  1.6e+00+0.j]\n",
      " [-1.7e+00+0.j  1.4e-01+0.j -1.3e-02+0.j  1.4e+00+0.j]]\n"
     ]
    }
   ],
   "source": [
    "print('Normalized Mean Square Error::')\n",
    "print(nmse)\n",
    "print('Know Signal:')\n",
    "print(X)\n",
    "print('Stimated Signal:')\n",
    "print(X_hat)"
   ]
  },
  {
   "cell_type": "markdown",
   "metadata": {},
   "source": [
    "So as we can see the stimation of the signal X can be considered perfect under the LSKRF Algorithm in a ideal scenario where the signal isn't corrupted by any kind of noise. It's also worth note that the individual stimations of A and B are considerably inaccurate but their $\\diamond$ product precisaly create a stimation of the signal X. This occurs because the operation of multiplication between scalars are not unique."
   ]
  },
  {
   "cell_type": "markdown",
   "metadata": {},
   "source": [
    "# Monte Carlo Experiments\n",
    "\n",
    "Assuming 1000 Monte Carlo experiments, generate  $\\mathbf{X_{0}} = \\mathbf{A}\\diamond \\mathbf{B} \\in \\mathbb{C}^{IJ \\times R}$, for randomly chosen $\\mathbf{A} \\in \\mathbb{C}^{I \\times R}$ and $\\mathbf{B} \\in \\mathbb{C}^{J \\times R}$, with R = 4, whose elements are drawn from a normal distribution. Let $\\mathbf{X} = \\mathbf{X_{0}} + \\alpha \\mathbf{V}$ be a noisy version of $\\mathbf{X}$ where $\\mathbf{V}$ is the additive noise term, whose elements are drawn from a normal distribution. The parameter $\\alpha$ controls the power (variance) of the noise term, and is defined as a function of the signal to noise ratio (SNR), in dB, as follows:\n",
    "\n",
    "\\begin{equation}\n",
    "    SNR_{dB} = 10 \\log_{10} \\frac{||\\mathbf{X_{0}}||^{2}_{F}}{||\\alpha \\mathbf{V}||^{2}_{F}}\n",
    "\\end{equation}\n",
    "\n",
    "Assuming the SNR range $[0, 5, 10, 15, 20, 25, 30]$ dB, find the estimates $\\hat{\\mathbf{A}}$ and $\\hat{\\mathbf{B}}$ obtained with the LSKRF algorithm for the configurations $(I, J) = (10, 10)$ and $(I, J) = (30, 10)$. Let us define the normalized mean square error (NMSE) measure as follows:\n",
    "\n",
    "\\begin{equation}\n",
    "    NMSE(\\mathbf{X_{0}}) = \\frac{1}{1000} \\sum^{1000}_{i = 1} \\frac{||\\hat{\\mathbf{X_{0}(i)}} - \\mathbf{X_{0}(i)}||^{2}_{F}}{||\\mathbf{X_{0}(i)}||^{2}_{F}}\n",
    "\\end{equation}\n",
    "\n",
    "where $\\mathbf{X_{0}(i)}$ and $\\hat{\\mathbf{X_{0}(i)}}$ represent the original data matrix and the reconstructed one at the ith experiment, respectively. For each SNR value and configuration, plot the NMSE vs. SNR curve. Discuss the obtained results.\n",
    "\n",
    "Note: For a given SNR (dB), the parameter α to be used in your experiment is determined from equation (1).\n",
    "\n",
    "<font color='red'>Solution:</font>"
   ]
  },
  {
   "cell_type": "code",
   "execution_count": 8,
   "metadata": {},
   "outputs": [],
   "source": [
    "#In this cell the Monte Carlo simulation will be created.\n",
    "def LSKRF_montecarlo(X_0,I,J,R,SNR_dB):\n",
    "    #X_0: The uncorrupted signal X = A ⋄ B ∈ C^{IJ×R}, where A ∈ C^{I×R} and B ∈ C^{J×R}.\n",
    "    #(I,J,R): Dimensions of A and B as mentioned above.\n",
    "    #SNR_dB: A vector of SNR values in decibels.\n",
    "    \n",
    "    #Obtaining the size of the array SNR_db\n",
    "    Size = len(SNR_dB)\n",
    "    \n",
    "    #Creating an array to alocate the values of NMSE per run.\n",
    "    NMSE = np.zeros(Size)\n",
    "    \n",
    "    #This loop controls the number of runs in the Monte Carlo simulation.\n",
    "    for k in range(0,1000):\n",
    "        \n",
    "        #Creating the noise array.\n",
    "        V = np.random.normal(0,1,[I*J,R]) + 1j*np.random.normal(0,1,[I*J,R])\n",
    "        \n",
    "        #This loop will run through the SNR_db vector.\n",
    "        for i in range(0,Size):\n",
    "            \n",
    "            #Converting the SNR that it is in dB to the linear scale.\n",
    "            SNR_Linear = 10**(SNR_dB[i]/10)\n",
    "            \n",
    "            #The process to obtain the value of alpha that will adjust the noise to the desirable value of SNR.\n",
    "            alphaV = ((np.linalg.norm(X_0,'fro'))**2)/SNR_Linear\n",
    "            alpha = np.sqrt(alphaV/((np.linalg.norm(V,'fro'))**2))\n",
    "            \n",
    "            #Adding the desirable noise to the original signal X_0.\n",
    "            X = X_0 + alpha*V\n",
    "            [X_hat,_] = LSKRF(X,I,J,R)\n",
    "        \n",
    "            #Obtaining the NMSE for the k-th run of the MCS at the SNR_dB[i].\n",
    "            NMSE[i] = NMSE[i] + (np.linalg.norm(X_hat - X_0)**2)/((np.linalg.norm(X_0,'fro'))**2)\n",
    "    \n",
    "    #Obtaining the mean of all the runs.\n",
    "    NMSE = NMSE/1000\n",
    "    \n",
    "    return NMSE"
   ]
  },
  {
   "cell_type": "markdown",
   "metadata": {},
   "source": [
    "Bellow the asked configurations are generated:"
   ]
  },
  {
   "cell_type": "code",
   "execution_count": 9,
   "metadata": {},
   "outputs": [],
   "source": [
    "I,J,R = 10,10,4\n",
    "SNR_dB = [0,5,10,15,20,25,30]\n",
    "A = np.random.randn(I,R) + 1j*np.random.randn(I,R)\n",
    "B = np.random.randn(J,R) + 1j*np.random.randn(J,R)\n",
    "X_0 = tl.tenalg.khatri_rao([A,B])"
   ]
  },
  {
   "cell_type": "code",
   "execution_count": 10,
   "metadata": {},
   "outputs": [],
   "source": [
    "NMSE1 = LSKRF_montecarlo(X_0,I,J,R,SNR_dB)"
   ]
  },
  {
   "cell_type": "code",
   "execution_count": 11,
   "metadata": {},
   "outputs": [],
   "source": [
    "I,J,R = 30,10,4\n",
    "SNR_dB = [0,5,10,15,20,25,30]\n",
    "A = np.random.randn(I,R) + 1j*np.random.randn(I,R)\n",
    "B = np.random.randn(J,R) + 1j*np.random.randn(J,R)\n",
    "X_0 = tl.tenalg.khatri_rao([A,B])"
   ]
  },
  {
   "cell_type": "code",
   "execution_count": 12,
   "metadata": {},
   "outputs": [],
   "source": [
    "NMSE2 = LSKRF_montecarlo(X_0,I,J,R,SNR_dB)"
   ]
  },
  {
   "cell_type": "code",
   "execution_count": 13,
   "metadata": {},
   "outputs": [
    {
     "data": {
      "image/png": "[encoded data removed]",
      "text/plain": [
       "<Figure size 432x288 with 1 Axes>"
      ]
     },
     "metadata": {},
     "output_type": "display_data"
    }
   ],
   "source": [
    "plt.figure()\n",
    "plt.semilogy(SNR_dB,NMSE1,'b', label = '(I,J,R) = (10,10,4)')\n",
    "plt.semilogy(SNR_dB,NMSE2,'r', label = '(I,J,R) = (30,10,4)')\n",
    "plt.title('SNR x NMSE for LSKRF')\n",
    "plt.xlabel('Signal to Noise Ratio(dB)')\n",
    "plt.ylabel('Normalized Mean Square Error')\n",
    "plt.legend()\n",
    "plt.show()"
   ]
  },
  {
   "cell_type": "markdown",
   "metadata": {},
   "source": [
    "As expected at low values of SNR the noise is so strong that the stimated signal is almost completely diferent from the transmited signal. However as the SNR value increase the NMSE values quickly reduce to zero before his maximum value at 30dB. Also is worth note that the change of scenario of (I,J,R) = (10,10,4) to (I,J,R) = (30,10,4) praticaly didn't change the NMSE values."
   ]
  },
  {
   "cell_type": "markdown",
   "metadata": {},
   "source": [
    "## About this notebook\n",
    "\n",
    "**Author**: Kenneth B. dos A. Benício\n",
    "\n",
    "**Uptaded on**: 2020-03-30"
   ]
  }
 ],
 "metadata": {
  "kernelspec": {
   "display_name": "Python 3",
   "language": "python",
   "name": "python3"
  },
  "language_info": {
   "codemirror_mode": {
    "name": "ipython",
    "version": 3
   },
   "file_extension": ".py",
   "mimetype": "text/x-python",
   "name": "python",
   "nbconvert_exporter": "python",
   "pygments_lexer": "ipython3",
   "version": "3.7.6"
  }
 },
 "nbformat": 4,
 "nbformat_minor": 4
}

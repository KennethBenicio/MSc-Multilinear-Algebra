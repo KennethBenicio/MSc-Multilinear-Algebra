{
 "cells": [
  {
   "cell_type": "code",
   "execution_count": 1,
   "metadata": {},
   "outputs": [],
   "source": [
    "#Importing the usual libraries.\n",
    "import numpy as np\n",
    "import tensorly as tl\n",
    "import seaborn as sns\n",
    "import matplotlib.pyplot as plt\n",
    "import multilinearalgebra\n",
    "\n",
    "from tqdm import tqdm\n",
    "from scipy.io import loadmat\n",
    "\n",
    "#Setting style options.\n",
    "sns.set()\n",
    "np.set_printoptions(3)"
   ]
  },
  {
   "cell_type": "markdown",
   "metadata": {},
   "source": [
    "The following packages are used in this notebook:\n",
    "\n",
    "- `numpy 1.18.1`\n",
    "- `tensorly 0.4.3`\n",
    "- `seaborn 0.10.0`"
   ]
  },
  {
   "cell_type": "markdown",
   "metadata": {},
   "source": [
    "# Problem 1 \n",
    "\n",
    "On practice 5 we implement the KPSVD(Kronecker Product Singular Value Decomposition) algorithm, now we will go to implement the generalization of that to tensors, namely, TKPSVD(Tensor Kronecker Product Singular Value Decomposition) algorithm. Consider the N-order tensor $\\mathbf{\\mathcal{X}} \\in \\mathbb{C}^{I_{1} \\times I_{2} \\times ... \\times I_{N}}$. Then, $\\mathbf{\\mathcal{X}} = \\sum^{R}_{j = 1} \\sigma_{j} \\otimes \\mathbf{\\mathcal{A_{j}}}^{(d)} \\otimes \\mathbf{\\mathcal{A_{j}}}^{(d - 1)} \\otimes ... \\otimes \\mathbf{\\mathcal{A_{j}}}^{(1)}$ is the TKPSVD of tensor $\\mathbf{\\mathcal{X}}$, where the tensors $\\mathbf{\\mathcal{A_{j}}}^{(i)} \\in \\mathbb{R}^{I^{(i)}_{1} \\times I^{(i)}_{2} \\times ... \\times I^{(i)}_{N}}$\n",
    "satisfy:\n",
    "\n",
    "\\begin{equation}\n",
    "    ||\\mathbf{\\mathcal{A_{j}}}^{(i)} ||_{F} = 1, \\prod^{d}_{i = 1} \\mathbf{I^{(i)}_{k}} = \\mathbf{I}_{k}, 1 \\leqslant k \\leqslant N\n",
    "\\end{equation}\n",
    "\n",
    "For $d = 5$, $N = 3$ and $I_{n}$ arbitrary implement the TKPSVD for that estimate $\\mathbf{\\mathcal{A_{j}}}^{(1)}$, $\\mathbf{\\mathcal{A_{j}}}^{(2)}$, $\\mathbf{\\mathcal{A_{j}}}^{(3)}$, $\\mathbf{\\mathcal{A_{j}}}^{(4)}$, $\\mathbf{\\mathcal{A_{j}}}^{(5)}$, $1 \\leqslant j \\leqslant R$. What can you conclude? Explain the results.\n",
    "\n",
    "<font color='red'>Solution:</font>"
   ]
  },
  {
   "cell_type": "markdown",
   "metadata": {},
   "source": [
    "# Problem 2\n",
    "\n",
    "Consider the $4000 \\times 6000 \\times 3$ tensor $\\mathbf{\\mathcal{X}}$. Compute the degree-5 TKPSVD of $\\mathbf{\\mathcal{X}}$ of the following form\n",
    "\n",
    "\\begin{equation}\n",
    "    (\\hat{\\mathbf{\\mathcal{A_{j}}}}^{(5)}, \\hat{\\mathbf{\\mathcal{A_{j}}}}^{(4)}, ..., \\hat{\\mathbf{\\mathcal{A_{j}}}}^{(1)}) = \\underset{\\mathbf{\\mathcal{A_{j}}}^{(5)}, \\mathbf{\\mathcal{A_{j}}}^{(4)}, ..., \\mathbf{\\mathcal{A_{j}}}^{(1)}}{min} || \\mathbf{\\mathcal{X}} - \\mathbf{\\mathcal{A_{j}}}^{(5)} \\otimes \\mathbf{\\mathcal{A_{j}}}^{(4)} \\otimes ... \\otimes \\mathbf{\\mathcal{A_{j}}}^{(1)}||^{2}_{F}\n",
    "\\end{equation}\n",
    "\n",
    "with dimensions:\n",
    "\n",
    "\\begin{equation}\n",
    "    (250 \\times 375 \\times 3) \\otimes (2 \\times 2 \\times 1) \\otimes (2 \\times 2 \\times 1) \\otimes (2 \\times 2 \\times 1) \\otimes (2 \\times 2 \\times 1)\n",
    "\\end{equation}\n",
    "\n",
    "<font color='red'>Solution:</font>"
   ]
  },
  {
   "cell_type": "markdown",
   "metadata": {},
   "source": [
    "## About this notebook\n",
    "\n",
    "**Author**: Kenneth B. dos A. Benício\n",
    "\n",
    "**Uptaded on**: 2020-04-30"
   ]
  }
 ],
 "metadata": {
  "kernelspec": {
   "display_name": "Python 3",
   "language": "python",
   "name": "python3"
  },
  "language_info": {
   "codemirror_mode": {
    "name": "ipython",
    "version": 3
   },
   "file_extension": ".py",
   "mimetype": "text/x-python",
   "name": "python",
   "nbconvert_exporter": "python",
   "pygments_lexer": "ipython3",
   "version": "3.7.6"
  }
 },
 "nbformat": 4,
 "nbformat_minor": 4
}

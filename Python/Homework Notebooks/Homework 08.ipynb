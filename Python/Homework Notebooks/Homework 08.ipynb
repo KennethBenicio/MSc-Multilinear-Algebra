{
 "cells": [
  {
   "cell_type": "code",
   "execution_count": 2,
   "metadata": {},
   "outputs": [],
   "source": [
    "#Importing the usual libraries.\n",
    "import numpy as np\n",
    "import tensorly as tl\n",
    "import seaborn as sns\n",
    "import matplotlib.pyplot as plt\n",
    "import multilinearalgebra\n",
    "from tqdm import tqdm\n",
    "from cmath import sqrt\n",
    "from scipy.io import loadmat\n",
    "from numpy.linalg import norm\n",
    "\n",
    "#Setting style options.\n",
    "sns.set()\n",
    "np.set_printoptions(3)"
   ]
  },
  {
   "cell_type": "markdown",
   "metadata": {},
   "source": [
    "The following packages are used in this notebook:\n",
    "\n",
    "- `numpy 1.18.1`\n",
    "- `tensorly 0.4.3`\n",
    "- `seaborn 0.10.0`"
   ]
  },
  {
   "cell_type": "markdown",
   "metadata": {},
   "source": [
    "# Problem 1\n",
    "\n",
    "On practice 4 we implement the LS-KronF(Least Square Kronecker Factorization) algorithm, now we will go to implement the MLS-KronF(Multidimensional Least Square Kronecker Factorization) algorithm. Then, Let $\\mathbf{X} \\approx \\mathbf{A}^{(1)} \\otimes \\mathbf{A}^{(2)} \\otimes ... \\otimes \\mathbf{A}^{(N)} \\in \\mathbb{C}^{I_{1} I_{2} ... I_{N} \\times J_{1} J_{2} ... J_{N}}$ be a matrix composed by Kronecker product of N matrices $\\mathbf{A}^{(n)} \\in \\mathbb{C}^{I_{n} \\times J_{n}}$ , with n = 1, 2, . . . , N . For N = 3 and $I_{n}$ and $J_{n}$ arbitrary implement the MLS-KRF for that estimate $\\mathbf{A}^{(1)}, \\mathbf{A}^{(2)}$ and $\\mathbf{A}^{(3)}$ by solving the following problem.\n",
    "\n",
    "\\begin{equation}\n",
    "    (\\hat{\\mathbf{A}}^{(1)}, \\hat{\\mathbf{A}}^{(2)}, \\hat{\\mathbf{A}}^{(3)}) = \\underset{\\mathbf{A}, \\mathbf{B}}{min} || \\mathbf{X} - \\mathbf{A}^{(1)} \\otimes \\mathbf{A}^{(2)} \\otimes \\mathbf{A}^{(3)} ||^{2}_{F}\n",
    "\\end{equation}\n",
    "\n",
    "Compare the estimate matrices $\\hat{\\mathbf{A}}^{(1)}, \\hat{\\mathbf{A}}^{(2)}$ and $\\hat{\\mathbf{A}}^{(3)}$ with the original ones. What can you\n",
    "conclude? Explain the results.\n",
    "\n",
    "Hint: Use the file “kronf_matrix_3D.mat” to validate your result.\n",
    "\n",
    "\n",
    "<font color='red'>Solution:</font>"
   ]
  },
  {
   "cell_type": "code",
   "execution_count": 3,
   "metadata": {},
   "outputs": [],
   "source": [
    "def MLSKRONF_3D(matrix,shapes,sizes):\n",
    "    \n",
    "    matrix_bar = multilinearalgebra.extract_block_mlskronf(matrix,shapes) \n",
    "    matrix_bar = multilinearalgebra.vec(matrix_bar)\n",
    "    tensor_bar = np.moveaxis(matrix_bar.reshape(sizes),len(shapes)-2 ,len(shapes)-1)\n",
    "    [S,U,_] = multilinearalgebra.HOSVD(tensor_bar)\n",
    "    \n",
    "    matrices = []\n",
    "    for i in range(0,tensor_bar.ndim):\n",
    "        s = sqrt(S.flat[0])**(2/len(shapes))\n",
    "        u = s*U[::-1][i][:,0].reshape(shapes[i],order = 'F')\n",
    "        matrices.append(u) \n",
    "    \n",
    "    matrix_approx = tl.tenalg.kronecker(matrices)\n",
    "    nmse = multilinearalgebra.normalized_mean_square_error(matrix,matrix_approx)\n",
    "    \n",
    "    return matrices,nmse"
   ]
  },
  {
   "cell_type": "code",
   "execution_count": 4,
   "metadata": {},
   "outputs": [
    {
     "name": "stdout",
     "output_type": "stream",
     "text": [
      "8.381023606548226e-31\n"
     ]
    }
   ],
   "source": [
    "A = np.random.randn(2,2)\n",
    "B = np.random.randn(2,2)\n",
    "C = np.random.randn(2,2)\n",
    "matrix = tl.tenalg.kronecker([A,B,C])\n",
    "\n",
    "[matrices,nmse] = MLSKRONF_3D(matrix,[A.shape, B.shape, C.shape],[np.size(A),np.size(B),np.size(C)])\n",
    "print(nmse)"
   ]
  },
  {
   "cell_type": "markdown",
   "metadata": {},
   "source": [
    "# Test with kronf_matrix_3D.mat file"
   ]
  },
  {
   "cell_type": "code",
   "execution_count": 5,
   "metadata": {},
   "outputs": [],
   "source": [
    "KRONF_MATRIX_3D = loadmat('kronf_matrix_3D.mat')\n",
    "A = KRONF_MATRIX_3D['A'] \n",
    "B = KRONF_MATRIX_3D['B'] \n",
    "C = KRONF_MATRIX_3D['C'] \n",
    "X = tl.tenalg.kronecker((A,B,C))"
   ]
  },
  {
   "cell_type": "code",
   "execution_count": 6,
   "metadata": {},
   "outputs": [],
   "source": [
    "[matrices,_] = MLSKRONF_3D(X,[A.shape, B.shape, C.shape],[np.size(A),np.size(B),np.size(C)])\n",
    "X_approx = tl.tenalg.kronecker(matrices)"
   ]
  },
  {
   "cell_type": "code",
   "execution_count": 7,
   "metadata": {},
   "outputs": [
    {
     "name": "stdout",
     "output_type": "stream",
     "text": [
      "NMSE for A1 Stimation:\n",
      "3.945193007570923\n",
      "NMSE for A2 Stimation:\n",
      "3.782147264496462\n",
      "NMSE for A3 Stimation:\n",
      "2.0172141663049756\n",
      "NMSE for X Stimation:\n",
      "5.078568101630544e-31\n"
     ]
    }
   ],
   "source": [
    "print('NMSE for A1 Stimation:')\n",
    "print(multilinearalgebra.normalized_mean_square_error(A,matrices[0]))\n",
    "\n",
    "print('NMSE for A2 Stimation:')\n",
    "print(multilinearalgebra.normalized_mean_square_error(B,matrices[1]))\n",
    "\n",
    "print('NMSE for A3 Stimation:')\n",
    "print(multilinearalgebra.normalized_mean_square_error(C,matrices[2]))\n",
    "\n",
    "print('NMSE for X Stimation:')\n",
    "print(multilinearalgebra.normalized_mean_square_error(X,X_approx))"
   ]
  },
  {
   "cell_type": "markdown",
   "metadata": {},
   "source": [
    "# Problem 2\n",
    "\n",
    "Assuming 1000 Monte Carlo experiments, generate  $\\mathbf{X_{0}} = \\mathbf{A} \\otimes \\mathbf{B} \\otimes \\mathbf{C} \\in \\mathbb{C}^{I_{1} I_{2} I_{3} \\times J_{1} J_{2} J_{3}}$, for randomly chosen $\\mathbf{A} \\in \\mathbb{C}^{I_{1} \\times J_{1}}$, $\\mathbf{B} \\in \\mathbb{C}^{I_{2} \\times J_{2}}$ and $\\mathbf{C} \\in \\mathbb{C}^{I_{3} \\times J_{3}}$, with R = 4, whose elements are drawn from a normal distribution. Let $\\mathbf{X} = \\mathbf{X_{0}} + \\alpha \\mathbf{V}$ be a noisy version of $\\mathbf{X}$ where $\\mathbf{V}$ is the additive noise term, whose elements are drawn from a normal distribution. The parameter $\\alpha$ controls the power (variance) of the noise term, and is defined as a function of the signal to noise ratio (SNR), in dB, as follows:\n",
    "\n",
    "\\begin{equation}\n",
    "    SNR_{dB} = 10 \\log_{10} \\frac{||\\mathbf{X_{0}}||^{2}_{F}}{||\\alpha \\mathbf{V}||^{2}_{F}}\n",
    "\\end{equation}\n",
    "\n",
    "Assuming the SNR range $[0, 5, 10, 15, 20, 25, 30]$ dB, find the estimates $\\hat{\\mathbf{A}}$, $\\hat{\\mathbf{B}}$ and $\\hat{\\mathbf{C}}$ obtained with the MLS-KRF algorithm for the configurations $I_{1} = 2$, $I_{2} = 3$ and $I_{3} = 4$. \n",
    "\n",
    "Let us define the normalized mean square error (NMSE) measure as follows:\n",
    "\n",
    "\\begin{equation}\n",
    "    NMSE(\\mathbf{X_{0}}) = \\frac{1}{1000} \\sum^{1000}_{i = 1} \\frac{||\\hat{\\mathbf{X_{0}(i)}} - \\mathbf{X_{0}(i)}||^{2}_{F}}{||\\mathbf{X_{0}(i)}||^{2}_{F}}\n",
    "\\end{equation}\n",
    "\n",
    "where $\\mathbf{X_{0}(i)}$ and $\\hat{\\mathbf{X_{0}(i)}}$ represent the original data matrix and the reconstructed one at the ith experiment, respectively. For each SNR value and configuration, plot the NMSE vs. SNR curve. Discuss the obtained results.\n",
    "\n",
    "Note: For a given SNR (dB), the parameter α to be used in your experiment is determined from equation (1).\n",
    "\n",
    "<font color='red'>Solution:</font>"
   ]
  },
  {
   "cell_type": "code",
   "execution_count": 8,
   "metadata": {},
   "outputs": [],
   "source": [
    "def MLSKRONF_3D_montecarlo(X_0,shapes,sizes,SNR_dB):\n",
    "    \n",
    "    #Obtaining the size of the array SNR_db\n",
    "    Size = len(SNR_dB)\n",
    "    #Creating an array to alocate the values of NMSE per run.\n",
    "    NMSE = np.zeros(Size)\n",
    "    \n",
    "    #This loop controls the number of runs in the Monte Carlo simulation.\n",
    "    runs = 1000\n",
    "    for k in tqdm(range(runs)):\n",
    "        \n",
    "        #Creating the noise array.\n",
    "        a = shapes[0][0]*shapes[1][0]*shapes[2][0]\n",
    "        V = np.random.normal(0,1,[a,a]) + 1j*np.random.normal(0,1,[a,a])\n",
    "        \n",
    "        #This loop will run through the SNR_db vector.\n",
    "        for i in range(0,Size):\n",
    "            \n",
    "            #Converting the SNR that it is in dB to the linear scale.\n",
    "            SNR_Linear = 10**(SNR_dB[i]/10)\n",
    "            \n",
    "            #The process to obtain the value of alpha that will adjust the noise to the desirable value of SNR.\n",
    "            alphaV = ((np.linalg.norm(X_0,'fro'))**2)/SNR_Linear\n",
    "            alpha = np.sqrt(alphaV/((np.linalg.norm(V,'fro'))**2))\n",
    "            \n",
    "            #Adding the desirable noise to the original signal X_0.\n",
    "            X = X_0 + alpha*V\n",
    "            [_,nmse] = MLSKRONF_3D(X,shapes,sizes)\n",
    "            \n",
    "            #Obtaining the NMSE for the k-th run of the MCS at the SNR_dB[i].\n",
    "            NMSE[i] = NMSE[i] + nmse\n",
    "    \n",
    "    #Obtaining the mean of all the runs.\n",
    "    NMSE = NMSE/runs\n",
    "    \n",
    "    return NMSE"
   ]
  },
  {
   "cell_type": "code",
   "execution_count": 9,
   "metadata": {},
   "outputs": [],
   "source": [
    "SNR_dB = [0,5,10,15,20,25,30,35,40,45,50]\n",
    "\n",
    "A = np.random.randn(2,2) + 1j*np.random.randn(2,2)\n",
    "B = np.random.randn(3,3) + 1j*np.random.randn(3,3)\n",
    "C = np.random.randn(4,4) + 1j*np.random.randn(4,4)\n",
    "\n",
    "X_0 = tl.tenalg.kronecker([A,B,C])"
   ]
  },
  {
   "cell_type": "code",
   "execution_count": 10,
   "metadata": {},
   "outputs": [
    {
     "name": "stderr",
     "output_type": "stream",
     "text": [
      "100%|██████████| 1000/1000 [00:55<00:00, 17.91it/s]\n"
     ]
    }
   ],
   "source": [
    "NMSE = MLSKRONF_3D_montecarlo(X_0,[A.shape, B.shape, C.shape],[np.size(A),np.size(B),np.size(C)],SNR_dB)"
   ]
  },
  {
   "cell_type": "code",
   "execution_count": 11,
   "metadata": {},
   "outputs": [
    {
     "data": {
      "image/png": "[encoded data removed]",
      "text/plain": [
       "<Figure size 432x288 with 1 Axes>"
      ]
     },
     "metadata": {},
     "output_type": "display_data"
    }
   ],
   "source": [
    "plt.figure()\n",
    "plt.semilogy(SNR_dB,NMSE,'b', label = '$I_{1}$ = 2, $I_{2}$ = 3, $I_{3}$ = 4')\n",
    "plt.title('SNR x NMSE for MLSKRONF_3D')\n",
    "plt.xlabel('Signal to Noise Ratio(dB)')\n",
    "plt.ylabel('Normalized Mean Square Error')\n",
    "plt.legend()\n",
    "plt.show()"
   ]
  },
  {
   "cell_type": "markdown",
   "metadata": {},
   "source": [
    "## About this notebook\n",
    "\n",
    "**Author**: Kenneth B. dos A. Benício\n",
    "\n",
    "**Uptaded on**: 2020-04-30"
   ]
  }
 ],
 "metadata": {
  "kernelspec": {
   "display_name": "Python 3",
   "language": "python",
   "name": "python3"
  },
  "language_info": {
   "codemirror_mode": {
    "name": "ipython",
    "version": 3
   },
   "file_extension": ".py",
   "mimetype": "text/x-python",
   "name": "python",
   "nbconvert_exporter": "python",
   "pygments_lexer": "ipython3",
   "version": "3.7.6"
  }
 },
 "nbformat": 4,
 "nbformat_minor": 4
}

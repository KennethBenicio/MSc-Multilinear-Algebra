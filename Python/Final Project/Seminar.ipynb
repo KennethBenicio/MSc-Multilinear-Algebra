{
 "cells": [
  {
   "cell_type": "code",
   "execution_count": 1,
   "metadata": {},
   "outputs": [
    {
     "name": "stderr",
     "output_type": "stream",
     "text": [
      "Using numpy backend.\n"
     ]
    }
   ],
   "source": [
    "import numpy as np\n",
    "import tensorly as tl\n",
    "from tqdm import tqdm\n",
    "import tensor_filter as tf\n",
    "import matplotlib.pyplot as plt"
   ]
  },
  {
   "cell_type": "code",
   "execution_count": 2,
   "metadata": {
    "jupyter": {
     "source_hidden": true
    }
   },
   "outputs": [],
   "source": [
    "# Functions for simulation of a full channel model.\n",
    "def channel(number_of_antenas,number_of_users,number_of_paths,buffer_size):\n",
    "    \n",
    "    #Wavelength of the Carrier.\n",
    "    l = 1\n",
    "    #Speed of light\n",
    "    c = 3**8\n",
    "    #Symbol Period.    \n",
    "    T = 10**-5\n",
    "    #Wavelength of the Carrier.\n",
    "    \n",
    "    channel_gain = np.random.randn(number_of_users,number_of_paths)/np.sqrt(2) + 1j*np.random.randn(number_of_users,number_of_paths)/np.sqrt(2)\n",
    "    channel_gain = (channel_gain - np.mean(channel_gain))/np.std(channel_gain)\n",
    "\n",
    "    angles_of_arrival = -np.pi/2 + np.pi*np.random.rand(number_of_users,number_of_paths)\n",
    "    channel_spatial_response = np.zeros([number_of_users,number_of_paths,number_of_antenas],dtype = 'complex')\n",
    "    for i in range(0,number_of_users):\n",
    "        for j in range(0,number_of_paths):\n",
    "            for k in range(0,number_of_antenas):\n",
    "                channel_spatial_response[i,j,k] = np.exp(-1j*np.pi*(k)*np.cos(angles_of_arrival[i,j]))\n",
    "                 \n",
    "    delay_response =  l/(2*c*np.cos(angles_of_arrival))\n",
    "    pulse_shaping_waveform = np.zeros([number_of_users,number_of_paths,buffer_size],dtype = 'complex')\n",
    "    for i in range(0,number_of_users):\n",
    "        for j in range(0,number_of_paths):\n",
    "            for k in range(0,buffer_size):\n",
    "                pulse_shaping_waveform[i,j,k] = np.sinc(i*T - delay_response[i,j]) + 1j*np.sinc(k*T - delay_response[i,j])\n",
    "                \n",
    "    channel_tensor = np.zeros([number_of_users,number_of_paths,number_of_antenas,buffer_size],dtype = 'complex')\n",
    "    for i in range(0,number_of_users):\n",
    "        for j in range(0,number_of_paths):\n",
    "            csr = (channel_spatial_response[i,j])[:,None]\n",
    "            psw = (pulse_shaping_waveform[i,j])[:,None]\n",
    "            channel_tensor[i,j] = channel_gain[i,j]*csr@psw.T\n",
    "            \n",
    "    channel_tensor = np.sum(channel_tensor,1)\n",
    "    channel_matrix = tl.unfold(channel_tensor,1)\n",
    "    \n",
    "    return channel_matrix,channel_tensor"
   ]
  },
  {
   "cell_type": "code",
   "execution_count": 3,
   "metadata": {
    "jupyter": {
     "source_hidden": true
    }
   },
   "outputs": [],
   "source": [
    "def sampled_signal(user_signal,number_of_users,buffer_size,instant_of_sampling):\n",
    "\n",
    "    user_signal_at_k = np.zeros([number_of_users,buffer_size],dtype = 'complex')\n",
    "    \n",
    "    #This block simulates the change of signal throughout time in the buffer of data.\n",
    "    for i in range(0,number_of_users):\n",
    "        signal = user_signal[:,i]\n",
    "        signal = signal[:,np.newaxis]\n",
    "        signal = np.append(signal,np.zeros([1,buffer_size]))\n",
    "        signal = signal[instant_of_sampling:instant_of_sampling+buffer_size]\n",
    "        signal = (signal[::-1])\n",
    "        user_signal_at_k[i,:] = signal\n",
    "    \n",
    "    return user_signal_at_k\n",
    "\n",
    "def sampled_matrix(user_signal,number_of_users,number_of_antenas,buffer_size,lenght):\n",
    "    \n",
    "    matrix_of_sampling = tl.tensor(np.zeros([lenght,buffer_size,number_of_users],dtype = 'complex'))\n",
    "\n",
    "    for j in range(0,number_of_users):\n",
    "        for i in range(0,lenght):\n",
    "            user_at_instant_i = sampled_signal(user_signal,number_of_users,buffer_size,i)\n",
    "            matrix_of_sampling[i,:,j] = user_at_instant_i[j,:]\n",
    "\n",
    "    matrix_of_sampling = np.transpose(matrix_of_sampling)\n",
    "    matrix_of_sampling_tensor = matrix_of_sampling\n",
    "    matrix_of_sampling = tl.unfold(matrix_of_sampling,2)\n",
    "    \n",
    "    return matrix_of_sampling, matrix_of_sampling_tensor"
   ]
  },
  {
   "cell_type": "code",
   "execution_count": 4,
   "metadata": {
    "jupyter": {
     "source_hidden": true
    }
   },
   "outputs": [],
   "source": [
    "def noise(signal_uncorrupted,snr_dB):\n",
    "    \n",
    "    snr_linear = 10**(snr_dB/10)\n",
    "    b = (1/2*snr_linear)*(np.random.randn(*signal_uncorrupted.shape) + np.random.randn(*signal_uncorrupted.shape))\n",
    "    signal_corrupted = signal_uncorrupted + b\n",
    "\n",
    "    return signal_corrupted, np.var(b)\n",
    "\n",
    "def received_signal(matrix_of_sampling,channel_matrix,snr_dB):\n",
    "   \n",
    "    signal_uncorrupted = channel_matrix@np.transpose(matrix_of_sampling)\n",
    "    [signal_corrupted,var_noise] = noise(signal_uncorrupted,snr_dB)\n",
    "        \n",
    "    return signal_uncorrupted,signal_corrupted,var_noise"
   ]
  },
  {
   "cell_type": "code",
   "execution_count": 48,
   "metadata": {},
   "outputs": [],
   "source": [
    "def lms(signal_corrupted, signal, step, order):\n",
    "\n",
    "    # Number of loops to count because of the buffer delay.\n",
    "    I = signal_corrupted.size - order + 1\n",
    "    # Filter output.\n",
    "    signal_approx = np.zeros([I, 1], dtype = 'complex')\n",
    "    # Error vector.\n",
    "    error = np.zeros((I, 1), dtype = 'complex')\n",
    "    # Matrix that will store the filter coeficients for each loop.\n",
    "    w = np.zeros((order, I), dtype = 'complex')\n",
    "\n",
    "    mse = np.zeros(I,)\n",
    "    for i in range(I):\n",
    "        u = np.flipud(signal_corrupted[i:i + order])[:, np.newaxis]\n",
    "        signal_approx[i] = w[:, [i - 1]].T.conj() @ u\n",
    "        error[i] = signal[i + order - 1] - signal_approx[i]\n",
    "        mse[i] = np.absolute(error[i]) ** 2 / I\n",
    "\n",
    "        # Updating the filter coeficients\n",
    "        w[:, [i]] = w[:, [i - 1]] + step * u * (error[i].conj())\n",
    "        signal_approx[i] = w[:, [i]].T.conj() @ u\n",
    "    \n",
    "    return mse"
   ]
  },
  {
   "cell_type": "code",
   "execution_count": 146,
   "metadata": {},
   "outputs": [
    {
     "name": "stderr",
     "output_type": "stream",
     "text": [
      "100%|██████████| 1000/1000 [00:03<00:00, 276.49it/s]\n"
     ]
    }
   ],
   "source": [
    "number_of_users = 1\n",
    "\n",
    "step = 0.05\n",
    "order = 2\n",
    "lenght = 100\n",
    "\n",
    "runs = 1000\n",
    "MSE = np.zeros(lenght - order + 1)\n",
    "for i in tqdm(range(runs)):\n",
    "    signal = np.random.randint(2,size = [lenght,number_of_users]) + 1j*np.random.randint(2,size = [lenght,number_of_users])\n",
    "    signal.real[signal.real == 0] = -1\n",
    "    signal.imag[signal.imag == 0] = -1\n",
    "    signal_corrupted = np.random.randn(1)*signal\n",
    "    signal_corrupted = signal_corrupted[:,0]\n",
    "    mse = lms(signal_corrupted, signal, step, order)\n",
    "\n",
    "    MSE = MSE + mse\n",
    "    \n",
    "MSE = MSE/runs"
   ]
  },
  {
   "cell_type": "code",
   "execution_count": 147,
   "metadata": {
    "collapsed": true,
    "jupyter": {
     "outputs_hidden": true
    }
   },
   "outputs": [
    {
     "data": {
      "image/png": "[encoded data removed]",
      "text/plain": [
       "<Figure size 432x288 with 1 Axes>"
      ]
     },
     "metadata": {
      "needs_background": "light"
     },
     "output_type": "display_data"
    }
   ],
   "source": [
    "plt.figure()\n",
    "plt.plot(10*np.log10(np.abs(MSE001)), label='step = 0.010')\n",
    "plt.plot(10*np.log10(np.abs(MSE025)), label='step = 0.025')\n",
    "plt.plot(10*np.log10(np.abs(MSE005)), label='step = 0.050')\n",
    "plt.title('LMS Filter')\n",
    "plt.ylabel('MSE(dB)')\n",
    "plt.xlabel('Iterations')\n",
    "plt.legend()\n",
    "plt.savefig('LMS Filter - MSE x Iteration')\n",
    "plt.show()"
   ]
  },
  {
   "cell_type": "code",
   "execution_count": 5,
   "metadata": {},
   "outputs": [],
   "source": [
    "def nlms(signal_corrupted, signal, step, order):\n",
    "\n",
    "    # Number of loops to count because of the buffer delay.\n",
    "    I = signal_corrupted.size - order + 1\n",
    "    # Filter output.\n",
    "    signal_approx = np.zeros([I, 1], dtype = 'complex')\n",
    "    # Error vector.\n",
    "    error = np.zeros((I, 1), dtype = 'complex')\n",
    "    # Matrix that will store the filter coeficients for each loop.\n",
    "    w = np.zeros((order, I), dtype = 'complex')\n",
    "\n",
    "    mse = np.zeros(I,)\n",
    "    for i in range(I):\n",
    "        u = np.flipud(signal_corrupted[i:i + order])[:, np.newaxis]\n",
    "        signal_approx[i] = w[:, [i - 1]].T.conj() @ u\n",
    "        error[i] = signal[i + order - 1] - signal_approx[i]\n",
    "        mse[i] = np.absolute(error[i]) ** 2 / I\n",
    "\n",
    "        # Updating the filter coeficients\n",
    "        w[:, [i]] = w[:, [i - 1]] + (step / np.linalg.norm(u)) * u * (error[i].conj())\n",
    "        signal_approx[i] = w[:, [i]].T.conj() @ u\n",
    "    \n",
    "    return mse"
   ]
  },
  {
   "cell_type": "code",
   "execution_count": 13,
   "metadata": {},
   "outputs": [
    {
     "name": "stderr",
     "output_type": "stream",
     "text": [
      "100%|██████████| 100/100 [00:42<00:00,  2.35it/s]\n"
     ]
    }
   ],
   "source": [
    "number_of_users = 1\n",
    "\n",
    "step = 0.050\n",
    "order = 1\n",
    "lenght = 10000\n",
    "\n",
    "runs = 100\n",
    "MSE = np.zeros(lenght - order + 1)\n",
    "for i in tqdm(range(runs)):\n",
    "    signal = np.random.randint(2,size = [lenght,number_of_users]) + 1j*np.random.randint(2,size = [lenght,number_of_users])\n",
    "    signal.real[signal.real == 0] = -1\n",
    "    signal.imag[signal.imag == 0] = -1\n",
    "    signal_corrupted = np.random.randn(1)*signal\n",
    "    signal_corrupted = signal_corrupted[:,0]\n",
    "    mse = nlms(signal_corrupted, signal, step, order)\n",
    "\n",
    "    MSE = MSE + mse\n",
    "    \n",
    "MSE = MSE/runs"
   ]
  },
  {
   "cell_type": "code",
   "execution_count": 14,
   "metadata": {},
   "outputs": [],
   "source": [
    "MSE0050 = MSE"
   ]
  },
  {
   "cell_type": "code",
   "execution_count": 15,
   "metadata": {},
   "outputs": [
    {
     "data": {
      "image/png": "[encoded data removed]",
      "text/plain": [
       "<Figure size 432x288 with 1 Axes>"
      ]
     },
     "metadata": {
      "needs_background": "light"
     },
     "output_type": "display_data"
    }
   ],
   "source": [
    "plt.figure()\n",
    "plt.plot(10*np.log10(np.abs(MSE0010)), label='step = 0.010')\n",
    "plt.plot(10*np.log10(np.abs(MSE0025)), label='step = 0.025')\n",
    "plt.plot(10*np.log10(np.abs(MSE0050)), label='step = 0.050')\n",
    "#plt.plot(10*np.log10(np.abs(MSE010)), label='step = 0.10')\n",
    "#plt.plot(10*np.log10(np.abs(MSE020)), label='step = 0.20')\n",
    "plt.title('NLMS Filter')\n",
    "plt.ylabel('MSE(dB)')\n",
    "plt.xlabel('Iterations')\n",
    "plt.legend()\n",
    "plt.savefig('NLMS Filter - MSE x Iteration')\n",
    "plt.show()"
   ]
  },
  {
   "cell_type": "code",
   "execution_count": 148,
   "metadata": {},
   "outputs": [],
   "source": [
    "def tlms(signal_corrupted, signal, step):\n",
    "    _, sample = signal_corrupted.shape\n",
    "    nh = 10\n",
    "    nv = 10\n",
    "    w_h = np.zeros([nh, 1])\n",
    "    w_h[0] = 1\n",
    "    w_v = np.zeros([nv, 1])\n",
    "    w_v[0] = 1\n",
    "\n",
    "    mse = np.zeros(sample)\n",
    "    for i in range(0, sample):\n",
    "        x = signal_corrupted[:, i]\n",
    "        x_matrix = x.reshape([nh, nv], order = 'F')\n",
    "        u_h = x_matrix @ (w_v.conj())\n",
    "        u_v = x_matrix.T @ (w_h.conj())\n",
    "        error = signal[i,] - (tl.tenalg.kronecker([w_v, w_h]).T.conj()) @ x\n",
    "        step_approx = step / (np.linalg.norm(u_h, 2) ** 2 + np.linalg.norm(u_v, 2) ** 2)\n",
    "        w_h = w_h + step_approx * u_h * error.conj()\n",
    "        w_v = w_v + step_approx * u_v * error.conj()\n",
    "        w = tl.tenalg.kronecker([w_v, w_h])\n",
    "        mse[i] = ((np.absolute(signal[i,] - w.T.conj() @ x)) ** 2 ) / sample\n",
    "        \n",
    "    return w, mse"
   ]
  },
  {
   "cell_type": "code",
   "execution_count": 160,
   "metadata": {},
   "outputs": [
    {
     "name": "stderr",
     "output_type": "stream",
     "text": [
      "100%|██████████| 100/100 [03:51<00:00,  2.31s/it]\n"
     ]
    }
   ],
   "source": [
    "number_of_antenas = 100\n",
    "number_of_users = 1\n",
    "number_of_paths = 4\n",
    "buffer_size = 16\n",
    "lenght = 10000\n",
    "snr_dB = 30\n",
    "step = 0.05\n",
    "\n",
    "runs = 100\n",
    "MSE = np.zeros(lenght)\n",
    "for i in tqdm(range(runs)):\n",
    "    signal = np.random.randint(2,size = [lenght,number_of_users]) + 1j*np.random.randint(2,size = [lenght,number_of_users])\n",
    "    signal.real[signal.real == 0] = -1\n",
    "    signal.imag[signal.imag == 0] = -1\n",
    "    [channel_matrix, _] = channel(number_of_antenas, number_of_users, number_of_paths, buffer_size)\n",
    "    [matrix_of_sampling, _] = sampled_matrix(signal, number_of_users, number_of_antenas, buffer_size, lenght)\n",
    "    [_, signal_corrupted, _] = received_signal(matrix_of_sampling, channel_matrix, snr_dB)\n",
    "    [w, mse] = tlms(signal_corrupted, signal, step)\n",
    "    \n",
    "    MSE = MSE + mse\n",
    "    \n",
    "MSE = MSE/runs"
   ]
  },
  {
   "cell_type": "code",
   "execution_count": 162,
   "metadata": {
    "collapsed": true,
    "jupyter": {
     "outputs_hidden": true
    }
   },
   "outputs": [
    {
     "data": {
      "image/png": "[encoded data removed]",
      "text/plain": [
       "<Figure size 432x288 with 1 Axes>"
      ]
     },
     "metadata": {
      "needs_background": "light"
     },
     "output_type": "display_data"
    }
   ],
   "source": [
    "plt.figure()\n",
    "plt.plot(10*np.log10(np.abs(MSE005)), label='step = 0.05')\n",
    "plt.plot(10*np.log10(np.abs(MSE010)), label='step = 0.10')\n",
    "plt.plot(10*np.log10(np.abs(MSE050)), label='step = 0.50')\n",
    "plt.plot(10*np.log10(np.abs(MSE100)), label='step = 1.00')\n",
    "plt.title('TLMS Filter for N = 100, users = 1, paths = 4, buffer = 16 at snr = 30')\n",
    "plt.ylabel('MSE(dB)')\n",
    "plt.xlabel('Iterations')\n",
    "plt.legend()\n",
    "plt.savefig('TLMS Filter - MSE x Iteration')\n",
    "plt.show()"
   ]
  },
  {
   "cell_type": "code",
   "execution_count": 190,
   "metadata": {},
   "outputs": [],
   "source": [
    "def atlms(signal_corrupted, signal, step):\n",
    "    \n",
    "    _, sample = signal_corrupted.shape\n",
    "     \n",
    "    Kh = 10\n",
    "    Kv = 10\n",
    "    Kb = np.floor(sample/(Kh + Kv))\n",
    "   \n",
    "    w_h = np.zeros([Kh, 1])\n",
    "    w_h[0] = 1\n",
    "    w_v = np.zeros([Kv, 1])\n",
    "    w_v[0] = 1\n",
    "    \n",
    "    z = 0\n",
    "    mse = np.zeros(sample)\n",
    "    for i in range(0,int(Kb*(Kh + Kv)), int(Kh + Kv)):\n",
    "        \n",
    "        for j in range(i,int(i + Kh)):\n",
    "            x = signal_corrupted[:, j]\n",
    "            x_matrix = x.reshape([Kh, Kv], order = 'F')\n",
    "            u_h = x_matrix @ (w_v.conj())\n",
    "            error = signal[j,] - (tl.tenalg.kronecker([w_v, w_h]).T.conj()) @ x\n",
    "            step_approx = step / (np.linalg.norm(u_h, 2) ** 2)\n",
    "            w_h = w_h + step_approx * u_h * error.conj()\n",
    "            w = tl.tenalg.kronecker([w_v, w_h])\n",
    "            mse[z] = np.absolute(error) ** 2 / sample\n",
    "            z = z + 1\n",
    "            \n",
    "        for k in range(int(i + Kh),int(i + Kh + Kv)):\n",
    "            x = signal_corrupted[:, k]\n",
    "            x_matrix = x.reshape([Kh, Kv], order = 'F')\n",
    "            u_v = x_matrix.T @ (w_h.conj())\n",
    "            error = signal[k,] - (tl.tenalg.kronecker([w_v, w_h]).T.conj()) @ x\n",
    "            step_approx = step / (np.linalg.norm(u_v, 2) ** 2)\n",
    "            w_v = w_v + step_approx * u_v * error.conj()\n",
    "            w = tl.tenalg.kronecker([w_v, w_h])\n",
    "            mse[z] = np.absolute(error) ** 2 / sample\n",
    "            z = z + 1\n",
    "            \n",
    "    return w, mse"
   ]
  },
  {
   "cell_type": "code",
   "execution_count": 179,
   "metadata": {},
   "outputs": [
    {
     "name": "stderr",
     "output_type": "stream",
     "text": [
      "100%|██████████| 100/100 [03:05<00:00,  1.85s/it]\n"
     ]
    }
   ],
   "source": [
    "number_of_antenas = 100\n",
    "number_of_users = 1\n",
    "number_of_paths = 4\n",
    "buffer_size = 16\n",
    "lenght = 10000\n",
    "snr_dB = 30\n",
    "step = 0.05\n",
    "\n",
    "runs = 100\n",
    "MSE = np.zeros(lenght)\n",
    "for i in tqdm(range(runs)):\n",
    "    signal = np.random.randint(2,size = [lenght,number_of_users]) + 1j*np.random.randint(2,size = [lenght,number_of_users])\n",
    "    signal.real[signal.real == 0] = -1\n",
    "    signal.imag[signal.imag == 0] = -1\n",
    "    [channel_matrix, _] = channel(number_of_antenas, number_of_users, number_of_paths, buffer_size)\n",
    "    [matrix_of_sampling, _] = sampled_matrix(signal, number_of_users, number_of_antenas, buffer_size, lenght)\n",
    "    [_, signal_corrupted, _] = received_signal(matrix_of_sampling, channel_matrix, snr_dB)\n",
    "    [w, mse] = atlms(signal_corrupted, signal, step)\n",
    "    \n",
    "    MSE = MSE + mse\n",
    "    \n",
    "MSE = MSE/runs"
   ]
  },
  {
   "cell_type": "code",
   "execution_count": 180,
   "metadata": {},
   "outputs": [],
   "source": [
    "MSE005 = MSE"
   ]
  },
  {
   "cell_type": "code",
   "execution_count": 182,
   "metadata": {},
   "outputs": [
    {
     "data": {
      "image/png": "[encoded data removed]",
      "text/plain": [
       "<Figure size 432x288 with 1 Axes>"
      ]
     },
     "metadata": {
      "needs_background": "light"
     },
     "output_type": "display_data"
    }
   ],
   "source": [
    "plt.figure()\n",
    "plt.plot(10*np.log10(np.abs(MSE005)), label='step = 0.05')\n",
    "plt.plot(10*np.log10(np.abs(MSE010)), label='step = 0.10')\n",
    "plt.plot(10*np.log10(np.abs(MSE050)), label='step = 0.50')\n",
    "plt.plot(10*np.log10(np.abs(MSE100)), label='step = 1.00')\n",
    "plt.title('ATLMS Filter for N = 100, users = 1, paths = 4, buffer = 16 at snr = 30')\n",
    "plt.ylabel('MSE(dB)')\n",
    "plt.xlabel('Iterations')\n",
    "plt.legend()\n",
    "plt.savefig('ATLMS Filter - MSE x Iteration for Kh = Kv = 10')\n",
    "plt.show()"
   ]
  }
 ],
 "metadata": {
  "kernelspec": {
   "display_name": "Python 3",
   "language": "python",
   "name": "python3"
  },
  "language_info": {
   "codemirror_mode": {
    "name": "ipython",
    "version": 3
   },
   "file_extension": ".py",
   "mimetype": "text/x-python",
   "name": "python",
   "nbconvert_exporter": "python",
   "pygments_lexer": "ipython3",
   "version": "3.7.6"
  }
 },
 "nbformat": 4,
 "nbformat_minor": 4
}
